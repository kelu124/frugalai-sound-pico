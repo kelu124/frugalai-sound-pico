{
 "cells": [
  {
   "cell_type": "code",
   "execution_count": 7,
   "metadata": {},
   "outputs": [],
   "source": [
    "import json, glob\n",
    "import pandas as pd"
   ]
  },
  {
   "cell_type": "code",
   "execution_count": 14,
   "metadata": {},
   "outputs": [
    {
     "data": {
      "text/plain": [
       "['scores/quant_aware_model_v5_create_mel_spectrogram_for_map.score.json',\n",
       " 'scores/quant_aware_model_v5_create_arm_spectrogram_for_map.score.json',\n",
       " 'scores/baseline_model_v5_create_spectrogram_for_map.score.json',\n",
       " 'scores/quant_aware_model_v5_create_spectrogram_for_map.score.json',\n",
       " 'scores/baseline_model_v5_create_mel_spectrogram_for_map.score.json',\n",
       " 'scores/baseline_model_v5_create_arm_spectrogram_for_map.score.json']"
      ]
     },
     "execution_count": 14,
     "metadata": {},
     "output_type": "execute_result"
    }
   ],
   "source": [
    "glob.glob(\"scores/*.json\")"
   ]
  },
  {
   "cell_type": "code",
   "execution_count": 15,
   "metadata": {},
   "outputs": [],
   "source": [
    "d = []\n",
    "for x in glob.glob(\"scores/*.json\"):\n",
    "    with open(x, \"r\") as f:\n",
    "        j = json.loads(f.read())\n",
    "        j[\"src\"] = x\n",
    "    d.append( pd.DataFrame.from_dict(j, orient='index').T )"
   ]
  },
  {
   "cell_type": "code",
   "execution_count": 16,
   "metadata": {},
   "outputs": [
    {
     "data": {
      "text/html": [
       "<div>\n",
       "<style scoped>\n",
       "    .dataframe tbody tr th:only-of-type {\n",
       "        vertical-align: middle;\n",
       "    }\n",
       "\n",
       "    .dataframe tbody tr th {\n",
       "        vertical-align: top;\n",
       "    }\n",
       "\n",
       "    .dataframe thead th {\n",
       "        text-align: right;\n",
       "    }\n",
       "</style>\n",
       "<table border=\"1\" class=\"dataframe\">\n",
       "  <thead>\n",
       "    <tr style=\"text-align: right;\">\n",
       "      <th></th>\n",
       "      <th>model</th>\n",
       "      <th>loss</th>\n",
       "      <th>accuracy</th>\n",
       "      <th>src</th>\n",
       "    </tr>\n",
       "  </thead>\n",
       "  <tbody>\n",
       "    <tr>\n",
       "      <th>0</th>\n",
       "      <td>baseline_model_v5_create_mel_spectrogram_for_map</td>\n",
       "      <td>0.40495</td>\n",
       "      <td>0.796875</td>\n",
       "      <td>scores/quant_aware_model_v5_create_mel_spectro...</td>\n",
       "    </tr>\n",
       "    <tr>\n",
       "      <th>1</th>\n",
       "      <td>baseline_model_v5_create_arm_spectrogram_for_map</td>\n",
       "      <td>1.077094</td>\n",
       "      <td>0.84375</td>\n",
       "      <td>scores/quant_aware_model_v5_create_arm_spectro...</td>\n",
       "    </tr>\n",
       "    <tr>\n",
       "      <th>2</th>\n",
       "      <td>baseline_model_v5_create_spectrogram_for_map</td>\n",
       "      <td>0.629686</td>\n",
       "      <td>0.8125</td>\n",
       "      <td>scores/baseline_model_v5_create_spectrogram_fo...</td>\n",
       "    </tr>\n",
       "    <tr>\n",
       "      <th>3</th>\n",
       "      <td>baseline_model_v5_create_spectrogram_for_map</td>\n",
       "      <td>0.489944</td>\n",
       "      <td>0.796875</td>\n",
       "      <td>scores/quant_aware_model_v5_create_spectrogram...</td>\n",
       "    </tr>\n",
       "    <tr>\n",
       "      <th>4</th>\n",
       "      <td>baseline_model_v5_create_mel_spectrogram_for_map</td>\n",
       "      <td>0.33764</td>\n",
       "      <td>0.8125</td>\n",
       "      <td>scores/baseline_model_v5_create_mel_spectrogra...</td>\n",
       "    </tr>\n",
       "    <tr>\n",
       "      <th>5</th>\n",
       "      <td>baseline_model_v5_create_arm_spectrogram_for_map</td>\n",
       "      <td>1.443611</td>\n",
       "      <td>0.84375</td>\n",
       "      <td>scores/baseline_model_v5_create_arm_spectrogra...</td>\n",
       "    </tr>\n",
       "  </tbody>\n",
       "</table>\n",
       "</div>"
      ],
      "text/plain": [
       "                                              model      loss  accuracy  \\\n",
       "0  baseline_model_v5_create_mel_spectrogram_for_map   0.40495  0.796875   \n",
       "1  baseline_model_v5_create_arm_spectrogram_for_map  1.077094   0.84375   \n",
       "2      baseline_model_v5_create_spectrogram_for_map  0.629686    0.8125   \n",
       "3      baseline_model_v5_create_spectrogram_for_map  0.489944  0.796875   \n",
       "4  baseline_model_v5_create_mel_spectrogram_for_map   0.33764    0.8125   \n",
       "5  baseline_model_v5_create_arm_spectrogram_for_map  1.443611   0.84375   \n",
       "\n",
       "                                                 src  \n",
       "0  scores/quant_aware_model_v5_create_mel_spectro...  \n",
       "1  scores/quant_aware_model_v5_create_arm_spectro...  \n",
       "2  scores/baseline_model_v5_create_spectrogram_fo...  \n",
       "3  scores/quant_aware_model_v5_create_spectrogram...  \n",
       "4  scores/baseline_model_v5_create_mel_spectrogra...  \n",
       "5  scores/baseline_model_v5_create_arm_spectrogra...  "
      ]
     },
     "execution_count": 16,
     "metadata": {},
     "output_type": "execute_result"
    }
   ],
   "source": [
    "pd.concat(d).reset_index(drop=True)"
   ]
  }
 ],
 "metadata": {
  "kernelspec": {
   "display_name": ".venv",
   "language": "python",
   "name": "python3"
  },
  "language_info": {
   "codemirror_mode": {
    "name": "ipython",
    "version": 3
   },
   "file_extension": ".py",
   "mimetype": "text/x-python",
   "name": "python",
   "nbconvert_exporter": "python",
   "pygments_lexer": "ipython3",
   "version": "3.10.12"
  }
 },
 "nbformat": 4,
 "nbformat_minor": 2
}
