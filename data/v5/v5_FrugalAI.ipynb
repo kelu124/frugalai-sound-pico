{
  "cells": [
    {
      "cell_type": "markdown",
      "metadata": {
        "id": "m174xspUl7LC"
      },
      "source": [
        "# FrugalAI challenge - Chainsaws - preparing a model for Pico\n",
        "\n",
        "### Naive approach, `v5`\n",
        "\n",
        "\n",
        "```\n",
        "Copyright (c) 2025  @kelu124, Arm Limited, and Contributors. All rights reserved.\n",
        "\n",
        "SPDX-License-Identifier: Apache-2.0\n",
        "```\n",
        "\n",
        "* Based on initial work by : [Sandeep Mistry](https://twitter.com/sandeepmistry), [Henri Woodcock](https://twitter.com/henriwoodcock) from the [Arm Software Developers team](https://twitter.com/armsoftwaredev)\n"
      ]
    },
    {
      "cell_type": "markdown",
      "metadata": {
        "id": "Tn_BKd588L9B"
      },
      "source": [
        "Documentation :\n",
        "* [The authors initial work](https://colab.research.google.com/github/ArmDeveloperEcosystem/ml-audio-classifier-example-for-pico/blob/main/ml_audio_classifier_example_for_pico.ipynb)\n",
        "* This [notebook](https://colab.research.google.com/drive/16OmmqPclU-e1uhNwE0tGWASBocvlu5DA?usp=sharing)\n",
        "* Other resources:\n",
        "  * https://www.tensorflow.org/tutorials/audio/transfer_learning_audio#split_the_data\n"
      ]
    },
    {
      "cell_type": "markdown",
      "metadata": {
        "id": "Ojuc2yoIrA8G"
      },
      "source": [
        "## Install dependencies"
      ]
    },
    {
      "cell_type": "markdown",
      "metadata": {
        "id": "2t4hpGoHoUR6"
      },
      "source": [
        "### Python Libraries\n",
        "\n",
        "Let's start by installing the Python library dependencies:"
      ]
    },
    {
      "cell_type": "code",
      "execution_count": 1,
      "metadata": {
        "colab": {
          "base_uri": "https://localhost:8080/"
        },
        "id": "h0xeDhfbQhUc",
        "outputId": "a3426b09-5230-4ad3-a3ff-55c4bdde6afd"
      },
      "outputs": [
        {
          "name": "stdout",
          "output_type": "stream",
          "text": [
            "Requirement already satisfied: tf_keras in /usr/local/lib/python3.11/dist-packages (2.17.0)\n",
            "Requirement already satisfied: tensorflow<2.18,>=2.17 in /usr/local/lib/python3.11/dist-packages (from tf_keras) (2.17.1)\n",
            "Requirement already satisfied: absl-py>=1.0.0 in /usr/local/lib/python3.11/dist-packages (from tensorflow<2.18,>=2.17->tf_keras) (1.4.0)\n",
            "Requirement already satisfied: astunparse>=1.6.0 in /usr/local/lib/python3.11/dist-packages (from tensorflow<2.18,>=2.17->tf_keras) (1.6.3)\n",
            "Requirement already satisfied: flatbuffers>=24.3.25 in /usr/local/lib/python3.11/dist-packages (from tensorflow<2.18,>=2.17->tf_keras) (25.1.21)\n",
            "Requirement already satisfied: gast!=0.5.0,!=0.5.1,!=0.5.2,>=0.2.1 in /usr/local/lib/python3.11/dist-packages (from tensorflow<2.18,>=2.17->tf_keras) (0.6.0)\n",
            "Requirement already satisfied: google-pasta>=0.1.1 in /usr/local/lib/python3.11/dist-packages (from tensorflow<2.18,>=2.17->tf_keras) (0.2.0)\n",
            "Requirement already satisfied: h5py>=3.10.0 in /usr/local/lib/python3.11/dist-packages (from tensorflow<2.18,>=2.17->tf_keras) (3.12.1)\n",
            "Requirement already satisfied: libclang>=13.0.0 in /usr/local/lib/python3.11/dist-packages (from tensorflow<2.18,>=2.17->tf_keras) (18.1.1)\n",
            "Requirement already satisfied: ml-dtypes<0.5.0,>=0.3.1 in /usr/local/lib/python3.11/dist-packages (from tensorflow<2.18,>=2.17->tf_keras) (0.4.1)\n",
            "Requirement already satisfied: opt-einsum>=2.3.2 in /usr/local/lib/python3.11/dist-packages (from tensorflow<2.18,>=2.17->tf_keras) (3.4.0)\n",
            "Requirement already satisfied: packaging in /usr/local/lib/python3.11/dist-packages (from tensorflow<2.18,>=2.17->tf_keras) (24.2)\n",
            "Requirement already satisfied: protobuf!=4.21.0,!=4.21.1,!=4.21.2,!=4.21.3,!=4.21.4,!=4.21.5,<5.0.0dev,>=3.20.3 in /usr/local/lib/python3.11/dist-packages (from tensorflow<2.18,>=2.17->tf_keras) (4.25.5)\n",
            "Requirement already satisfied: requests<3,>=2.21.0 in /usr/local/lib/python3.11/dist-packages (from tensorflow<2.18,>=2.17->tf_keras) (2.32.3)\n",
            "Requirement already satisfied: setuptools in /usr/local/lib/python3.11/dist-packages (from tensorflow<2.18,>=2.17->tf_keras) (75.1.0)\n",
            "Requirement already satisfied: six>=1.12.0 in /usr/local/lib/python3.11/dist-packages (from tensorflow<2.18,>=2.17->tf_keras) (1.17.0)\n",
            "Requirement already satisfied: termcolor>=1.1.0 in /usr/local/lib/python3.11/dist-packages (from tensorflow<2.18,>=2.17->tf_keras) (2.5.0)\n",
            "Requirement already satisfied: typing-extensions>=3.6.6 in /usr/local/lib/python3.11/dist-packages (from tensorflow<2.18,>=2.17->tf_keras) (4.12.2)\n",
            "Requirement already satisfied: wrapt>=1.11.0 in /usr/local/lib/python3.11/dist-packages (from tensorflow<2.18,>=2.17->tf_keras) (1.17.2)\n",
            "Requirement already satisfied: grpcio<2.0,>=1.24.3 in /usr/local/lib/python3.11/dist-packages (from tensorflow<2.18,>=2.17->tf_keras) (1.69.0)\n",
            "Requirement already satisfied: tensorboard<2.18,>=2.17 in /usr/local/lib/python3.11/dist-packages (from tensorflow<2.18,>=2.17->tf_keras) (2.17.1)\n",
            "Requirement already satisfied: keras>=3.2.0 in /usr/local/lib/python3.11/dist-packages (from tensorflow<2.18,>=2.17->tf_keras) (3.5.0)\n",
            "Requirement already satisfied: tensorflow-io-gcs-filesystem>=0.23.1 in /usr/local/lib/python3.11/dist-packages (from tensorflow<2.18,>=2.17->tf_keras) (0.37.1)\n",
            "Requirement already satisfied: numpy<2.0.0,>=1.23.5 in /usr/local/lib/python3.11/dist-packages (from tensorflow<2.18,>=2.17->tf_keras) (1.26.4)\n",
            "Requirement already satisfied: wheel<1.0,>=0.23.0 in /usr/local/lib/python3.11/dist-packages (from astunparse>=1.6.0->tensorflow<2.18,>=2.17->tf_keras) (0.45.1)\n",
            "Requirement already satisfied: rich in /usr/local/lib/python3.11/dist-packages (from keras>=3.2.0->tensorflow<2.18,>=2.17->tf_keras) (13.9.4)\n",
            "Requirement already satisfied: namex in /usr/local/lib/python3.11/dist-packages (from keras>=3.2.0->tensorflow<2.18,>=2.17->tf_keras) (0.0.8)\n",
            "Requirement already satisfied: optree in /usr/local/lib/python3.11/dist-packages (from keras>=3.2.0->tensorflow<2.18,>=2.17->tf_keras) (0.14.0)\n",
            "Requirement already satisfied: charset-normalizer<4,>=2 in /usr/local/lib/python3.11/dist-packages (from requests<3,>=2.21.0->tensorflow<2.18,>=2.17->tf_keras) (3.4.1)\n",
            "Requirement already satisfied: idna<4,>=2.5 in /usr/local/lib/python3.11/dist-packages (from requests<3,>=2.21.0->tensorflow<2.18,>=2.17->tf_keras) (3.10)\n",
            "Requirement already satisfied: urllib3<3,>=1.21.1 in /usr/local/lib/python3.11/dist-packages (from requests<3,>=2.21.0->tensorflow<2.18,>=2.17->tf_keras) (2.3.0)\n",
            "Requirement already satisfied: certifi>=2017.4.17 in /usr/local/lib/python3.11/dist-packages (from requests<3,>=2.21.0->tensorflow<2.18,>=2.17->tf_keras) (2024.12.14)\n",
            "Requirement already satisfied: markdown>=2.6.8 in /usr/local/lib/python3.11/dist-packages (from tensorboard<2.18,>=2.17->tensorflow<2.18,>=2.17->tf_keras) (3.7)\n",
            "Requirement already satisfied: tensorboard-data-server<0.8.0,>=0.7.0 in /usr/local/lib/python3.11/dist-packages (from tensorboard<2.18,>=2.17->tensorflow<2.18,>=2.17->tf_keras) (0.7.2)\n",
            "Requirement already satisfied: werkzeug>=1.0.1 in /usr/local/lib/python3.11/dist-packages (from tensorboard<2.18,>=2.17->tensorflow<2.18,>=2.17->tf_keras) (3.1.3)\n",
            "Requirement already satisfied: MarkupSafe>=2.1.1 in /usr/local/lib/python3.11/dist-packages (from werkzeug>=1.0.1->tensorboard<2.18,>=2.17->tensorflow<2.18,>=2.17->tf_keras) (3.0.2)\n",
            "Requirement already satisfied: markdown-it-py>=2.2.0 in /usr/local/lib/python3.11/dist-packages (from rich->keras>=3.2.0->tensorflow<2.18,>=2.17->tf_keras) (3.0.0)\n",
            "Requirement already satisfied: pygments<3.0.0,>=2.13.0 in /usr/local/lib/python3.11/dist-packages (from rich->keras>=3.2.0->tensorflow<2.18,>=2.17->tf_keras) (2.18.0)\n",
            "Requirement already satisfied: mdurl~=0.1 in /usr/local/lib/python3.11/dist-packages (from markdown-it-py>=2.2.0->rich->keras>=3.2.0->tensorflow<2.18,>=2.17->tf_keras) (0.1.2)\n"
          ]
        }
      ],
      "source": [
        "!pip install tf_keras"
      ]
    },
    {
      "cell_type": "code",
      "execution_count": 2,
      "metadata": {
        "id": "lG9zgj_nQlf2"
      },
      "outputs": [],
      "source": [
        "import os\n",
        "os.environ['TF_USE_LEGACY_KERAS'] = \"1\""
      ]
    },
    {
      "cell_type": "code",
      "execution_count": 3,
      "metadata": {
        "colab": {
          "base_uri": "https://localhost:8080/"
        },
        "id": "vMuaEzlPYcg_",
        "outputId": "872d8b4c-1589-420c-df7b-fa5dd5b0f018"
      },
      "outputs": [
        {
          "name": "stdout",
          "output_type": "stream",
          "text": [
            "Drive already mounted at /content/drive; to attempt to forcibly remount, call drive.mount(\"/content/drive\", force_remount=True).\n"
          ]
        }
      ],
      "source": [
        "try:\n",
        "  from google.colab import drive\n",
        "  drive.mount('/content/drive')\n",
        "except:\n",
        "  pass"
      ]
    },
    {
      "cell_type": "code",
      "execution_count": 4,
      "metadata": {
        "id": "ozOhN3r4JX2u"
      },
      "outputs": [],
      "source": [
        "REDO = False"
      ]
    },
    {
      "cell_type": "code",
      "execution_count": 5,
      "metadata": {
        "colab": {
          "base_uri": "https://localhost:8080/"
        },
        "id": "eXIBODZhYp6z",
        "outputId": "6e6b9a5a-f025-4ae9-9306-adae2fb404a7"
      },
      "outputs": [
        {
          "name": "stdout",
          "output_type": "stream",
          "text": [
            "Requirement already satisfied: tensorflow-io in /usr/local/lib/python3.11/dist-packages (0.37.1)\n",
            "Requirement already satisfied: tensorflow in /usr/local/lib/python3.11/dist-packages (2.17.1)\n",
            "Requirement already satisfied: tensorflow-model-optimization in /usr/local/lib/python3.11/dist-packages (0.8.0)\n",
            "Requirement already satisfied: librosa in /usr/local/lib/python3.11/dist-packages (0.10.2.post1)\n",
            "Requirement already satisfied: matplotlib in /usr/local/lib/python3.11/dist-packages (3.10.0)\n",
            "Requirement already satisfied: pandas in /usr/local/lib/python3.11/dist-packages (2.2.2)\n",
            "Requirement already satisfied: datasets in /usr/local/lib/python3.11/dist-packages (3.2.0)\n",
            "Requirement already satisfied: tensorflow-io-gcs-filesystem==0.37.1 in /usr/local/lib/python3.11/dist-packages (from tensorflow-io) (0.37.1)\n",
            "Requirement already satisfied: absl-py>=1.0.0 in /usr/local/lib/python3.11/dist-packages (from tensorflow) (1.4.0)\n",
            "Requirement already satisfied: astunparse>=1.6.0 in /usr/local/lib/python3.11/dist-packages (from tensorflow) (1.6.3)\n",
            "Requirement already satisfied: flatbuffers>=24.3.25 in /usr/local/lib/python3.11/dist-packages (from tensorflow) (25.1.21)\n",
            "Requirement already satisfied: gast!=0.5.0,!=0.5.1,!=0.5.2,>=0.2.1 in /usr/local/lib/python3.11/dist-packages (from tensorflow) (0.6.0)\n",
            "Requirement already satisfied: google-pasta>=0.1.1 in /usr/local/lib/python3.11/dist-packages (from tensorflow) (0.2.0)\n",
            "Requirement already satisfied: h5py>=3.10.0 in /usr/local/lib/python3.11/dist-packages (from tensorflow) (3.12.1)\n",
            "Requirement already satisfied: libclang>=13.0.0 in /usr/local/lib/python3.11/dist-packages (from tensorflow) (18.1.1)\n",
            "Requirement already satisfied: ml-dtypes<0.5.0,>=0.3.1 in /usr/local/lib/python3.11/dist-packages (from tensorflow) (0.4.1)\n",
            "Requirement already satisfied: opt-einsum>=2.3.2 in /usr/local/lib/python3.11/dist-packages (from tensorflow) (3.4.0)\n",
            "Requirement already satisfied: packaging in /usr/local/lib/python3.11/dist-packages (from tensorflow) (24.2)\n",
            "Requirement already satisfied: protobuf!=4.21.0,!=4.21.1,!=4.21.2,!=4.21.3,!=4.21.4,!=4.21.5,<5.0.0dev,>=3.20.3 in /usr/local/lib/python3.11/dist-packages (from tensorflow) (4.25.5)\n",
            "Requirement already satisfied: requests<3,>=2.21.0 in /usr/local/lib/python3.11/dist-packages (from tensorflow) (2.32.3)\n",
            "Requirement already satisfied: setuptools in /usr/local/lib/python3.11/dist-packages (from tensorflow) (75.1.0)\n",
            "Requirement already satisfied: six>=1.12.0 in /usr/local/lib/python3.11/dist-packages (from tensorflow) (1.17.0)\n",
            "Requirement already satisfied: termcolor>=1.1.0 in /usr/local/lib/python3.11/dist-packages (from tensorflow) (2.5.0)\n",
            "Requirement already satisfied: typing-extensions>=3.6.6 in /usr/local/lib/python3.11/dist-packages (from tensorflow) (4.12.2)\n",
            "Requirement already satisfied: wrapt>=1.11.0 in /usr/local/lib/python3.11/dist-packages (from tensorflow) (1.17.2)\n",
            "Requirement already satisfied: grpcio<2.0,>=1.24.3 in /usr/local/lib/python3.11/dist-packages (from tensorflow) (1.69.0)\n",
            "Requirement already satisfied: tensorboard<2.18,>=2.17 in /usr/local/lib/python3.11/dist-packages (from tensorflow) (2.17.1)\n",
            "Requirement already satisfied: keras>=3.2.0 in /usr/local/lib/python3.11/dist-packages (from tensorflow) (3.5.0)\n",
            "Requirement already satisfied: numpy<2.0.0,>=1.23.5 in /usr/local/lib/python3.11/dist-packages (from tensorflow) (1.26.4)\n",
            "Requirement already satisfied: dm-tree~=0.1.1 in /usr/local/lib/python3.11/dist-packages (from tensorflow-model-optimization) (0.1.8)\n",
            "Requirement already satisfied: audioread>=2.1.9 in /usr/local/lib/python3.11/dist-packages (from librosa) (3.0.1)\n",
            "Requirement already satisfied: scipy>=1.2.0 in /usr/local/lib/python3.11/dist-packages (from librosa) (1.13.1)\n",
            "Requirement already satisfied: scikit-learn>=0.20.0 in /usr/local/lib/python3.11/dist-packages (from librosa) (1.6.1)\n",
            "Requirement already satisfied: joblib>=0.14 in /usr/local/lib/python3.11/dist-packages (from librosa) (1.4.2)\n",
            "Requirement already satisfied: decorator>=4.3.0 in /usr/local/lib/python3.11/dist-packages (from librosa) (4.4.2)\n",
            "Requirement already satisfied: numba>=0.51.0 in /usr/local/lib/python3.11/dist-packages (from librosa) (0.60.0)\n",
            "Requirement already satisfied: soundfile>=0.12.1 in /usr/local/lib/python3.11/dist-packages (from librosa) (0.13.0)\n",
            "Requirement already satisfied: pooch>=1.1 in /usr/local/lib/python3.11/dist-packages (from librosa) (1.8.2)\n",
            "Requirement already satisfied: soxr>=0.3.2 in /usr/local/lib/python3.11/dist-packages (from librosa) (0.5.0.post1)\n",
            "Requirement already satisfied: lazy-loader>=0.1 in /usr/local/lib/python3.11/dist-packages (from librosa) (0.4)\n",
            "Requirement already satisfied: msgpack>=1.0 in /usr/local/lib/python3.11/dist-packages (from librosa) (1.1.0)\n",
            "Requirement already satisfied: contourpy>=1.0.1 in /usr/local/lib/python3.11/dist-packages (from matplotlib) (1.3.1)\n",
            "Requirement already satisfied: cycler>=0.10 in /usr/local/lib/python3.11/dist-packages (from matplotlib) (0.12.1)\n",
            "Requirement already satisfied: fonttools>=4.22.0 in /usr/local/lib/python3.11/dist-packages (from matplotlib) (4.55.4)\n",
            "Requirement already satisfied: kiwisolver>=1.3.1 in /usr/local/lib/python3.11/dist-packages (from matplotlib) (1.4.8)\n",
            "Requirement already satisfied: pillow>=8 in /usr/local/lib/python3.11/dist-packages (from matplotlib) (11.1.0)\n",
            "Requirement already satisfied: pyparsing>=2.3.1 in /usr/local/lib/python3.11/dist-packages (from matplotlib) (3.2.1)\n",
            "Requirement already satisfied: python-dateutil>=2.7 in /usr/local/lib/python3.11/dist-packages (from matplotlib) (2.8.2)\n",
            "Requirement already satisfied: pytz>=2020.1 in /usr/local/lib/python3.11/dist-packages (from pandas) (2024.2)\n",
            "Requirement already satisfied: tzdata>=2022.7 in /usr/local/lib/python3.11/dist-packages (from pandas) (2025.1)\n",
            "Requirement already satisfied: filelock in /usr/local/lib/python3.11/dist-packages (from datasets) (3.17.0)\n",
            "Requirement already satisfied: pyarrow>=15.0.0 in /usr/local/lib/python3.11/dist-packages (from datasets) (17.0.0)\n",
            "Requirement already satisfied: dill<0.3.9,>=0.3.0 in /usr/local/lib/python3.11/dist-packages (from datasets) (0.3.8)\n",
            "Requirement already satisfied: tqdm>=4.66.3 in /usr/local/lib/python3.11/dist-packages (from datasets) (4.67.1)\n",
            "Requirement already satisfied: xxhash in /usr/local/lib/python3.11/dist-packages (from datasets) (3.5.0)\n",
            "Requirement already satisfied: multiprocess<0.70.17 in /usr/local/lib/python3.11/dist-packages (from datasets) (0.70.16)\n",
            "Requirement already satisfied: fsspec<=2024.9.0,>=2023.1.0 in /usr/local/lib/python3.11/dist-packages (from fsspec[http]<=2024.9.0,>=2023.1.0->datasets) (2024.9.0)\n",
            "Requirement already satisfied: aiohttp in /usr/local/lib/python3.11/dist-packages (from datasets) (3.11.11)\n",
            "Requirement already satisfied: huggingface-hub>=0.23.0 in /usr/local/lib/python3.11/dist-packages (from datasets) (0.27.1)\n",
            "Requirement already satisfied: pyyaml>=5.1 in /usr/local/lib/python3.11/dist-packages (from datasets) (6.0.2)\n",
            "Requirement already satisfied: wheel<1.0,>=0.23.0 in /usr/local/lib/python3.11/dist-packages (from astunparse>=1.6.0->tensorflow) (0.45.1)\n",
            "Requirement already satisfied: aiohappyeyeballs>=2.3.0 in /usr/local/lib/python3.11/dist-packages (from aiohttp->datasets) (2.4.4)\n",
            "Requirement already satisfied: aiosignal>=1.1.2 in /usr/local/lib/python3.11/dist-packages (from aiohttp->datasets) (1.3.2)\n",
            "Requirement already satisfied: attrs>=17.3.0 in /usr/local/lib/python3.11/dist-packages (from aiohttp->datasets) (24.3.0)\n",
            "Requirement already satisfied: frozenlist>=1.1.1 in /usr/local/lib/python3.11/dist-packages (from aiohttp->datasets) (1.5.0)\n",
            "Requirement already satisfied: multidict<7.0,>=4.5 in /usr/local/lib/python3.11/dist-packages (from aiohttp->datasets) (6.1.0)\n",
            "Requirement already satisfied: propcache>=0.2.0 in /usr/local/lib/python3.11/dist-packages (from aiohttp->datasets) (0.2.1)\n",
            "Requirement already satisfied: yarl<2.0,>=1.17.0 in /usr/local/lib/python3.11/dist-packages (from aiohttp->datasets) (1.18.3)\n",
            "Requirement already satisfied: rich in /usr/local/lib/python3.11/dist-packages (from keras>=3.2.0->tensorflow) (13.9.4)\n",
            "Requirement already satisfied: namex in /usr/local/lib/python3.11/dist-packages (from keras>=3.2.0->tensorflow) (0.0.8)\n",
            "Requirement already satisfied: optree in /usr/local/lib/python3.11/dist-packages (from keras>=3.2.0->tensorflow) (0.14.0)\n",
            "Requirement already satisfied: llvmlite<0.44,>=0.43.0dev0 in /usr/local/lib/python3.11/dist-packages (from numba>=0.51.0->librosa) (0.43.0)\n",
            "Requirement already satisfied: platformdirs>=2.5.0 in /usr/local/lib/python3.11/dist-packages (from pooch>=1.1->librosa) (4.3.6)\n",
            "Requirement already satisfied: charset-normalizer<4,>=2 in /usr/local/lib/python3.11/dist-packages (from requests<3,>=2.21.0->tensorflow) (3.4.1)\n",
            "Requirement already satisfied: idna<4,>=2.5 in /usr/local/lib/python3.11/dist-packages (from requests<3,>=2.21.0->tensorflow) (3.10)\n",
            "Requirement already satisfied: urllib3<3,>=1.21.1 in /usr/local/lib/python3.11/dist-packages (from requests<3,>=2.21.0->tensorflow) (2.3.0)\n",
            "Requirement already satisfied: certifi>=2017.4.17 in /usr/local/lib/python3.11/dist-packages (from requests<3,>=2.21.0->tensorflow) (2024.12.14)\n",
            "Requirement already satisfied: threadpoolctl>=3.1.0 in /usr/local/lib/python3.11/dist-packages (from scikit-learn>=0.20.0->librosa) (3.5.0)\n",
            "Requirement already satisfied: cffi>=1.0 in /usr/local/lib/python3.11/dist-packages (from soundfile>=0.12.1->librosa) (1.17.1)\n",
            "Requirement already satisfied: markdown>=2.6.8 in /usr/local/lib/python3.11/dist-packages (from tensorboard<2.18,>=2.17->tensorflow) (3.7)\n",
            "Requirement already satisfied: tensorboard-data-server<0.8.0,>=0.7.0 in /usr/local/lib/python3.11/dist-packages (from tensorboard<2.18,>=2.17->tensorflow) (0.7.2)\n",
            "Requirement already satisfied: werkzeug>=1.0.1 in /usr/local/lib/python3.11/dist-packages (from tensorboard<2.18,>=2.17->tensorflow) (3.1.3)\n",
            "Requirement already satisfied: pycparser in /usr/local/lib/python3.11/dist-packages (from cffi>=1.0->soundfile>=0.12.1->librosa) (2.22)\n",
            "Requirement already satisfied: MarkupSafe>=2.1.1 in /usr/local/lib/python3.11/dist-packages (from werkzeug>=1.0.1->tensorboard<2.18,>=2.17->tensorflow) (3.0.2)\n",
            "Requirement already satisfied: markdown-it-py>=2.2.0 in /usr/local/lib/python3.11/dist-packages (from rich->keras>=3.2.0->tensorflow) (3.0.0)\n",
            "Requirement already satisfied: pygments<3.0.0,>=2.13.0 in /usr/local/lib/python3.11/dist-packages (from rich->keras>=3.2.0->tensorflow) (2.18.0)\n",
            "Requirement already satisfied: mdurl~=0.1 in /usr/local/lib/python3.11/dist-packages (from markdown-it-py>=2.2.0->rich->keras>=3.2.0->tensorflow) (0.1.2)\n"
          ]
        }
      ],
      "source": [
        "#!pip install -r /content/drive/MyDrive/frugal/requirements.txt\n",
        "!pip install tensorflow-io tensorflow tensorflow-model-optimization librosa matplotlib pandas datasets\n"
      ]
    },
    {
      "cell_type": "code",
      "execution_count": 6,
      "metadata": {
        "colab": {
          "base_uri": "https://localhost:8080/"
        },
        "id": "531T-PhZhcA7",
        "outputId": "12a6dc7f-ccf5-4214-fa22-7fdbb147fa0c"
      },
      "outputs": [
        {
          "name": "stdout",
          "output_type": "stream",
          "text": [
            "Collecting CMSISDSP\n",
            "  Cloning https://github.com/ARM-software/CMSIS_5.git (to revision 5.8.0) to /tmp/pip-install-6_587h4o/cmsisdsp_c0bcf6f94d964109a2dc93913bc15eea\n",
            "  Running command git clone --filter=blob:none --quiet https://github.com/ARM-software/CMSIS_5.git /tmp/pip-install-6_587h4o/cmsisdsp_c0bcf6f94d964109a2dc93913bc15eea\n",
            "  Running command git checkout -q 649bd8aa41ed7d86b416c89cdb4b820b899a4cbc\n",
            "  Resolved https://github.com/ARM-software/CMSIS_5.git to commit 649bd8aa41ed7d86b416c89cdb4b820b899a4cbc\n",
            "  Preparing metadata (setup.py) ... \u001b[?25l\u001b[?25hdone\n"
          ]
        }
      ],
      "source": [
        "# # Pico related library\n",
        "!pip install git+https://github.com/ARM-software/CMSIS_5.git@5.8.0#egg=CMSISDSP\\&subdirectory=CMSIS/DSP/PythonWrapper\n",
        "#!pip freeze > /content/drive/MyDrive/frugal/requirements.txt"
      ]
    },
    {
      "cell_type": "code",
      "execution_count": 7,
      "metadata": {
        "colab": {
          "base_uri": "https://localhost:8080/"
        },
        "id": "tu_WUu5VnzNZ",
        "outputId": "b3455c3e-1b8c-4ab5-9ad9-be40a0cdae93"
      },
      "outputs": [
        {
          "name": "stdout",
          "output_type": "stream",
          "text": [
            "Python 3.11.11\n",
            "pip 24.1.2 from /usr/local/lib/python3.11/dist-packages/pip (python 3.11)\n"
          ]
        }
      ],
      "source": [
        "!python --version\n",
        "!pip --version\n"
      ]
    },
    {
      "cell_type": "markdown",
      "metadata": {
        "id": "Ck00vnPDnSou"
      },
      "source": []
    },
    {
      "cell_type": "code",
      "execution_count": 8,
      "metadata": {
        "colab": {
          "base_uri": "https://localhost:8080/"
        },
        "id": "KD13h1ojSlHN",
        "outputId": "7e26bffb-2034-4497-b10a-672904e582b3"
      },
      "outputs": [
        {
          "name": "stdout",
          "output_type": "stream",
          "text": [
            "v2.17.0-18-g3c92ac03cab 2.17.1\n",
            "2.17.1\n"
          ]
        }
      ],
      "source": [
        "import tensorflow as tf\n",
        "# Connect to google drive\n",
        "\n",
        "print(tf.version.GIT_VERSION, tf.version.VERSION)\n",
        "print(tf.__version__)\n",
        "\n",
        "import numpy as np\n",
        "import pandas as pd\n",
        "import glob\n",
        "from tqdm import tqdm\n",
        "import soundfile as sf\n",
        "import json\n",
        "from os import path\n",
        "from datasets import load_dataset"
      ]
    },
    {
      "cell_type": "markdown",
      "metadata": {
        "id": "HMuv2599z8hy"
      },
      "source": [
        "## Baseline model\n",
        "\n",
        "Dataset: HuggingFace: \"rfcx/frugalai\"\n",
        "\n",
        "### Prepare dataset\n",
        "\n",
        "#### Download and extract"
      ]
    },
    {
      "cell_type": "code",
      "execution_count": 9,
      "metadata": {
        "id": "pUlygjmQISDG"
      },
      "outputs": [],
      "source": [
        "# download the dataset\n",
        "# Have your HuggingFace HF_TOKEN ready and made available!\n",
        "if not os.path.isfile(\"/content/drive/MyDrive/frugal/datasets/train.parquet.gzip\") or REDO:\n",
        "  dasaset = load_dataset(\n",
        "    \"rfcx/frugalai\",\n",
        "    name=\"default\",\n",
        "    num_proc=10,\n",
        "    cache_dir=\"cache/\"\n",
        "  )"
      ]
    },
    {
      "cell_type": "code",
      "execution_count": 10,
      "metadata": {
        "colab": {
          "base_uri": "https://localhost:8080/"
        },
        "collapsed": true,
        "id": "OOZf3FYnxw0e",
        "outputId": "2cdda5d2-c741-44c6-bdd9-1f8090bb52d6"
      },
      "outputs": [
        {
          "data": {
            "text/plain": []
          },
          "execution_count": 10,
          "metadata": {},
          "output_type": "execute_result"
        }
      ],
      "source": [
        "%%shell\n",
        "mkdir -p \"/content/drive/MyDrive/frugal/\"\n",
        "mkdir -p \"/content/drive/MyDrive/frugal/datasets/\"\n",
        "mkdir -p \"/content/drive/MyDrive/frugal/datasets/frugalai\"\n",
        "mkdir -p \"/content/drive/MyDrive/frugal/datasets/frugalai/wav/\"\n",
        "mkdir -p \"./wav/\"\n"
      ]
    },
    {
      "cell_type": "code",
      "execution_count": 11,
      "metadata": {
        "colab": {
          "base_uri": "https://localhost:8080/"
        },
        "id": "PWyMEh6KIIHn",
        "outputId": "bfba1e74-533c-48db-eeb6-33c9ef1d88d9"
      },
      "outputs": [
        {
          "data": {
            "text/plain": []
          },
          "execution_count": 11,
          "metadata": {},
          "output_type": "execute_result"
        }
      ],
      "source": [
        "%%shell\n",
        "cp \"/content/drive/MyDrive/frugal/datasets/train.parquet.gzip\" \"train.parquet.gzip\""
      ]
    },
    {
      "cell_type": "code",
      "execution_count": 12,
      "metadata": {
        "colab": {
          "base_uri": "https://localhost:8080/"
        },
        "id": "emKnehJGX8tW",
        "outputId": "60fcf036-c2e3-4feb-c856-ccdc01aebe71"
      },
      "outputs": [
        {
          "name": "stdout",
          "output_type": "stream",
          "text": [
            "Choice: create_arm_spectrogram_for_map\n"
          ]
        }
      ],
      "source": [
        "# Choose the setting of spectrogram between\n",
        "# 1 for create_spectrogram_for_map\n",
        "# 2 for create_arm_spectrogram_for_map\n",
        "# 3 Mel spectrogram\n",
        "\n",
        "choice = \"2\"# input(\"Choose \\n1. create_spectrogram_for_map. \\n2. create_arm_spectrogram_for_map. \\n3. create_mel_spectrogram_for_map: \")\n",
        "spectrogram_setting = \"create_spectrogram_for_map\"\n",
        "\n",
        "if choice == \"1\":\n",
        "  spectrogram_setting = \"create_spectrogram_for_map\"\n",
        "  pass\n",
        "elif choice == \"2\":\n",
        "    spectrogram_setting = \"create_arm_spectrogram_for_map\"\n",
        "elif choice == \"3\":\n",
        "    spectrogram_setting = \"create_mel_spectrogram_for_map\"\n",
        "\n",
        "print(\"Choice:\",spectrogram_setting)"
      ]
    },
    {
      "cell_type": "markdown",
      "metadata": {
        "id": "mh9gP4EXSoWp"
      },
      "source": [
        "## Creating sound files"
      ]
    },
    {
      "cell_type": "code",
      "execution_count": 13,
      "metadata": {
        "collapsed": true,
        "id": "NxUUJbb7x-DS"
      },
      "outputs": [],
      "source": [
        "# Takes 3 mins with T4 instance\n",
        "# 29s when files exist\n",
        "if not os.path.isfile(\"/content/drive/MyDrive/frugal/datasets/train.parquet.gzip\") or REDO:\n",
        "  for x in range(len(dasaset[\"train\"])):\n",
        "    d = dasaset[\"train\"][x]\n",
        "    # Saves WAVs to the DRIVE folder\n",
        "    if REDO:\n",
        "      filepath = \"wav/\"+d[\"audio\"][\"path\"]\n",
        "    else:\n",
        "      filepath = \"/content/drive/MyDrive/frugal/datasets/frugalai/wav/\"+d[\"audio\"][\"path\"]\n",
        "    if not os.path.isfile(filepath):\n",
        "      if len(d['audio']['array']) == 36000:\n",
        "        sf.write(filepath, d[\"audio\"][\"array\"], d[\"audio\"][\"sampling_rate\"])\n"
      ]
    },
    {
      "cell_type": "code",
      "execution_count": 14,
      "metadata": {
        "colab": {
          "base_uri": "https://localhost:8080/",
          "height": 206
        },
        "id": "uh2LhV6A0WtB",
        "outputId": "817b260e-3a3b-4596-9df2-e548488bb8e0"
      },
      "outputs": [
        {
          "data": {
            "application/vnd.google.colaboratory.intrinsic+json": {
              "summary": "{\n  \"name\": \"DF\",\n  \"rows\": 32882,\n  \"fields\": [\n    {\n      \"column\": \"path\",\n      \"properties\": {\n        \"dtype\": \"string\",\n        \"num_unique_values\": 32882,\n        \"samples\": [\n          \"osa_e4139eaa-b6f6-443e-b82e-f84685e97166_43-46.wav\",\n          \"warsi_2020_38232d65-c9ec-4a30-a3c6-b2c8600dee66_66-69.wav\",\n          \"palawan_2020_ffd1baa5-7a39-43db-99d2-9c9f4984040e_40-43.wav\"\n        ],\n        \"semantic_type\": \"\",\n        \"description\": \"\"\n      }\n    },\n    {\n      \"column\": \"sampling_rate\",\n      \"properties\": {\n        \"dtype\": \"number\",\n        \"std\": 0,\n        \"min\": 12000,\n        \"max\": 12000,\n        \"num_unique_values\": 1,\n        \"samples\": [\n          12000\n        ],\n        \"semantic_type\": \"\",\n        \"description\": \"\"\n      }\n    },\n    {\n      \"column\": \"label\",\n      \"properties\": {\n        \"dtype\": \"number\",\n        \"std\": 0,\n        \"min\": 0,\n        \"max\": 1,\n        \"num_unique_values\": 2,\n        \"samples\": [\n          0\n        ],\n        \"semantic_type\": \"\",\n        \"description\": \"\"\n      }\n    },\n    {\n      \"column\": \"fullpath\",\n      \"properties\": {\n        \"dtype\": \"string\",\n        \"num_unique_values\": 32882,\n        \"samples\": [\n          \"/content/drive/MyDrive/frugal/datasets/frugalai/wav/osa_e4139eaa-b6f6-443e-b82e-f84685e97166_43-46.wav\"\n        ],\n        \"semantic_type\": \"\",\n        \"description\": \"\"\n      }\n    }\n  ]\n}",
              "type": "dataframe",
              "variable_name": "DF"
            },
            "text/html": [
              "\n",
              "  <div id=\"df-fec1d5e1-a9c4-484e-a38c-fd31a3a6cab2\" class=\"colab-df-container\">\n",
              "    <div>\n",
              "<style scoped>\n",
              "    .dataframe tbody tr th:only-of-type {\n",
              "        vertical-align: middle;\n",
              "    }\n",
              "\n",
              "    .dataframe tbody tr th {\n",
              "        vertical-align: top;\n",
              "    }\n",
              "\n",
              "    .dataframe thead th {\n",
              "        text-align: right;\n",
              "    }\n",
              "</style>\n",
              "<table border=\"1\" class=\"dataframe\">\n",
              "  <thead>\n",
              "    <tr style=\"text-align: right;\">\n",
              "      <th></th>\n",
              "      <th>path</th>\n",
              "      <th>sampling_rate</th>\n",
              "      <th>label</th>\n",
              "      <th>fullpath</th>\n",
              "    </tr>\n",
              "  </thead>\n",
              "  <tbody>\n",
              "    <tr>\n",
              "      <th>0</th>\n",
              "      <td>pooks_6ebcaf77-aa92-4f10-984e-ecc5a919bcbb_41-...</td>\n",
              "      <td>12000</td>\n",
              "      <td>1</td>\n",
              "      <td>/content/drive/MyDrive/frugal/datasets/frugala...</td>\n",
              "    </tr>\n",
              "    <tr>\n",
              "      <th>1</th>\n",
              "      <td>warsi_2020_1275aa58-5cf4-4620-9c8f-78e1cb39864...</td>\n",
              "      <td>12000</td>\n",
              "      <td>0</td>\n",
              "      <td>/content/drive/MyDrive/frugal/datasets/frugala...</td>\n",
              "    </tr>\n",
              "    <tr>\n",
              "      <th>2</th>\n",
              "      <td>warsi_2021_ec626f56-e094-4729-bf1f-e3737e09231...</td>\n",
              "      <td>12000</td>\n",
              "      <td>0</td>\n",
              "      <td>/content/drive/MyDrive/frugal/datasets/frugala...</td>\n",
              "    </tr>\n",
              "    <tr>\n",
              "      <th>3</th>\n",
              "      <td>warsi_2020_c74e499c-3720-4727-8213-1fe5f032f8c...</td>\n",
              "      <td>12000</td>\n",
              "      <td>0</td>\n",
              "      <td>/content/drive/MyDrive/frugal/datasets/frugala...</td>\n",
              "    </tr>\n",
              "    <tr>\n",
              "      <th>5</th>\n",
              "      <td>pooks_bcc12bdc-516a-4615-b642-590e66b697ad_80-...</td>\n",
              "      <td>12000</td>\n",
              "      <td>1</td>\n",
              "      <td>/content/drive/MyDrive/frugal/datasets/frugala...</td>\n",
              "    </tr>\n",
              "  </tbody>\n",
              "</table>\n",
              "</div>\n",
              "    <div class=\"colab-df-buttons\">\n",
              "\n",
              "  <div class=\"colab-df-container\">\n",
              "    <button class=\"colab-df-convert\" onclick=\"convertToInteractive('df-fec1d5e1-a9c4-484e-a38c-fd31a3a6cab2')\"\n",
              "            title=\"Convert this dataframe to an interactive table.\"\n",
              "            style=\"display:none;\">\n",
              "\n",
              "  <svg xmlns=\"http://www.w3.org/2000/svg\" height=\"24px\" viewBox=\"0 -960 960 960\">\n",
              "    <path d=\"M120-120v-720h720v720H120Zm60-500h600v-160H180v160Zm220 220h160v-160H400v160Zm0 220h160v-160H400v160ZM180-400h160v-160H180v160Zm440 0h160v-160H620v160ZM180-180h160v-160H180v160Zm440 0h160v-160H620v160Z\"/>\n",
              "  </svg>\n",
              "    </button>\n",
              "\n",
              "  <style>\n",
              "    .colab-df-container {\n",
              "      display:flex;\n",
              "      gap: 12px;\n",
              "    }\n",
              "\n",
              "    .colab-df-convert {\n",
              "      background-color: #E8F0FE;\n",
              "      border: none;\n",
              "      border-radius: 50%;\n",
              "      cursor: pointer;\n",
              "      display: none;\n",
              "      fill: #1967D2;\n",
              "      height: 32px;\n",
              "      padding: 0 0 0 0;\n",
              "      width: 32px;\n",
              "    }\n",
              "\n",
              "    .colab-df-convert:hover {\n",
              "      background-color: #E2EBFA;\n",
              "      box-shadow: 0px 1px 2px rgba(60, 64, 67, 0.3), 0px 1px 3px 1px rgba(60, 64, 67, 0.15);\n",
              "      fill: #174EA6;\n",
              "    }\n",
              "\n",
              "    .colab-df-buttons div {\n",
              "      margin-bottom: 4px;\n",
              "    }\n",
              "\n",
              "    [theme=dark] .colab-df-convert {\n",
              "      background-color: #3B4455;\n",
              "      fill: #D2E3FC;\n",
              "    }\n",
              "\n",
              "    [theme=dark] .colab-df-convert:hover {\n",
              "      background-color: #434B5C;\n",
              "      box-shadow: 0px 1px 3px 1px rgba(0, 0, 0, 0.15);\n",
              "      filter: drop-shadow(0px 1px 2px rgba(0, 0, 0, 0.3));\n",
              "      fill: #FFFFFF;\n",
              "    }\n",
              "  </style>\n",
              "\n",
              "    <script>\n",
              "      const buttonEl =\n",
              "        document.querySelector('#df-fec1d5e1-a9c4-484e-a38c-fd31a3a6cab2 button.colab-df-convert');\n",
              "      buttonEl.style.display =\n",
              "        google.colab.kernel.accessAllowed ? 'block' : 'none';\n",
              "\n",
              "      async function convertToInteractive(key) {\n",
              "        const element = document.querySelector('#df-fec1d5e1-a9c4-484e-a38c-fd31a3a6cab2');\n",
              "        const dataTable =\n",
              "          await google.colab.kernel.invokeFunction('convertToInteractive',\n",
              "                                                    [key], {});\n",
              "        if (!dataTable) return;\n",
              "\n",
              "        const docLinkHtml = 'Like what you see? Visit the ' +\n",
              "          '<a target=\"_blank\" href=https://colab.research.google.com/notebooks/data_table.ipynb>data table notebook</a>'\n",
              "          + ' to learn more about interactive tables.';\n",
              "        element.innerHTML = '';\n",
              "        dataTable['output_type'] = 'display_data';\n",
              "        await google.colab.output.renderOutput(dataTable, element);\n",
              "        const docLink = document.createElement('div');\n",
              "        docLink.innerHTML = docLinkHtml;\n",
              "        element.appendChild(docLink);\n",
              "      }\n",
              "    </script>\n",
              "  </div>\n",
              "\n",
              "\n",
              "<div id=\"df-d9d3a7ed-8729-4bc6-aabf-8dbcac788c0e\">\n",
              "  <button class=\"colab-df-quickchart\" onclick=\"quickchart('df-d9d3a7ed-8729-4bc6-aabf-8dbcac788c0e')\"\n",
              "            title=\"Suggest charts\"\n",
              "            style=\"display:none;\">\n",
              "\n",
              "<svg xmlns=\"http://www.w3.org/2000/svg\" height=\"24px\"viewBox=\"0 0 24 24\"\n",
              "     width=\"24px\">\n",
              "    <g>\n",
              "        <path d=\"M19 3H5c-1.1 0-2 .9-2 2v14c0 1.1.9 2 2 2h14c1.1 0 2-.9 2-2V5c0-1.1-.9-2-2-2zM9 17H7v-7h2v7zm4 0h-2V7h2v10zm4 0h-2v-4h2v4z\"/>\n",
              "    </g>\n",
              "</svg>\n",
              "  </button>\n",
              "\n",
              "<style>\n",
              "  .colab-df-quickchart {\n",
              "      --bg-color: #E8F0FE;\n",
              "      --fill-color: #1967D2;\n",
              "      --hover-bg-color: #E2EBFA;\n",
              "      --hover-fill-color: #174EA6;\n",
              "      --disabled-fill-color: #AAA;\n",
              "      --disabled-bg-color: #DDD;\n",
              "  }\n",
              "\n",
              "  [theme=dark] .colab-df-quickchart {\n",
              "      --bg-color: #3B4455;\n",
              "      --fill-color: #D2E3FC;\n",
              "      --hover-bg-color: #434B5C;\n",
              "      --hover-fill-color: #FFFFFF;\n",
              "      --disabled-bg-color: #3B4455;\n",
              "      --disabled-fill-color: #666;\n",
              "  }\n",
              "\n",
              "  .colab-df-quickchart {\n",
              "    background-color: var(--bg-color);\n",
              "    border: none;\n",
              "    border-radius: 50%;\n",
              "    cursor: pointer;\n",
              "    display: none;\n",
              "    fill: var(--fill-color);\n",
              "    height: 32px;\n",
              "    padding: 0;\n",
              "    width: 32px;\n",
              "  }\n",
              "\n",
              "  .colab-df-quickchart:hover {\n",
              "    background-color: var(--hover-bg-color);\n",
              "    box-shadow: 0 1px 2px rgba(60, 64, 67, 0.3), 0 1px 3px 1px rgba(60, 64, 67, 0.15);\n",
              "    fill: var(--button-hover-fill-color);\n",
              "  }\n",
              "\n",
              "  .colab-df-quickchart-complete:disabled,\n",
              "  .colab-df-quickchart-complete:disabled:hover {\n",
              "    background-color: var(--disabled-bg-color);\n",
              "    fill: var(--disabled-fill-color);\n",
              "    box-shadow: none;\n",
              "  }\n",
              "\n",
              "  .colab-df-spinner {\n",
              "    border: 2px solid var(--fill-color);\n",
              "    border-color: transparent;\n",
              "    border-bottom-color: var(--fill-color);\n",
              "    animation:\n",
              "      spin 1s steps(1) infinite;\n",
              "  }\n",
              "\n",
              "  @keyframes spin {\n",
              "    0% {\n",
              "      border-color: transparent;\n",
              "      border-bottom-color: var(--fill-color);\n",
              "      border-left-color: var(--fill-color);\n",
              "    }\n",
              "    20% {\n",
              "      border-color: transparent;\n",
              "      border-left-color: var(--fill-color);\n",
              "      border-top-color: var(--fill-color);\n",
              "    }\n",
              "    30% {\n",
              "      border-color: transparent;\n",
              "      border-left-color: var(--fill-color);\n",
              "      border-top-color: var(--fill-color);\n",
              "      border-right-color: var(--fill-color);\n",
              "    }\n",
              "    40% {\n",
              "      border-color: transparent;\n",
              "      border-right-color: var(--fill-color);\n",
              "      border-top-color: var(--fill-color);\n",
              "    }\n",
              "    60% {\n",
              "      border-color: transparent;\n",
              "      border-right-color: var(--fill-color);\n",
              "    }\n",
              "    80% {\n",
              "      border-color: transparent;\n",
              "      border-right-color: var(--fill-color);\n",
              "      border-bottom-color: var(--fill-color);\n",
              "    }\n",
              "    90% {\n",
              "      border-color: transparent;\n",
              "      border-bottom-color: var(--fill-color);\n",
              "    }\n",
              "  }\n",
              "</style>\n",
              "\n",
              "  <script>\n",
              "    async function quickchart(key) {\n",
              "      const quickchartButtonEl =\n",
              "        document.querySelector('#' + key + ' button');\n",
              "      quickchartButtonEl.disabled = true;  // To prevent multiple clicks.\n",
              "      quickchartButtonEl.classList.add('colab-df-spinner');\n",
              "      try {\n",
              "        const charts = await google.colab.kernel.invokeFunction(\n",
              "            'suggestCharts', [key], {});\n",
              "      } catch (error) {\n",
              "        console.error('Error during call to suggestCharts:', error);\n",
              "      }\n",
              "      quickchartButtonEl.classList.remove('colab-df-spinner');\n",
              "      quickchartButtonEl.classList.add('colab-df-quickchart-complete');\n",
              "    }\n",
              "    (() => {\n",
              "      let quickchartButtonEl =\n",
              "        document.querySelector('#df-d9d3a7ed-8729-4bc6-aabf-8dbcac788c0e button');\n",
              "      quickchartButtonEl.style.display =\n",
              "        google.colab.kernel.accessAllowed ? 'block' : 'none';\n",
              "    })();\n",
              "  </script>\n",
              "</div>\n",
              "\n",
              "    </div>\n",
              "  </div>\n"
            ],
            "text/plain": [
              "                                                path  sampling_rate  label  \\\n",
              "0  pooks_6ebcaf77-aa92-4f10-984e-ecc5a919bcbb_41-...          12000      1   \n",
              "1  warsi_2020_1275aa58-5cf4-4620-9c8f-78e1cb39864...          12000      0   \n",
              "2  warsi_2021_ec626f56-e094-4729-bf1f-e3737e09231...          12000      0   \n",
              "3  warsi_2020_c74e499c-3720-4727-8213-1fe5f032f8c...          12000      0   \n",
              "5  pooks_bcc12bdc-516a-4615-b642-590e66b697ad_80-...          12000      1   \n",
              "\n",
              "                                            fullpath  \n",
              "0  /content/drive/MyDrive/frugal/datasets/frugala...  \n",
              "1  /content/drive/MyDrive/frugal/datasets/frugala...  \n",
              "2  /content/drive/MyDrive/frugal/datasets/frugala...  \n",
              "3  /content/drive/MyDrive/frugal/datasets/frugala...  \n",
              "5  /content/drive/MyDrive/frugal/datasets/frugala...  "
            ]
          },
          "execution_count": 14,
          "metadata": {},
          "output_type": "execute_result"
        }
      ],
      "source": [
        "# Takes 30s ish\n",
        "if not os.path.isfile(\"/content/drive/MyDrive/frugal/datasets/train.parquet.gzip\") or REDO:\n",
        "  LEN = len(dasaset[\"train\"])\n",
        "  train = {}\n",
        "  for x in range(LEN):\n",
        "    d = dasaset[\"train\"][x]\n",
        "    train[x] = {\"path\":d[\"audio\"][\"path\"], \"sampling_rate\":d[\"audio\"][\"sampling_rate\"],\"label\":d[\"label\"]}\n",
        "  DF = pd.DataFrame(train).T\n",
        "  DF.to_parquet(\"/content/drive/MyDrive/frugal/datasets/train.parquet.gzip\",compression=\"gzip\")\n",
        "else:\n",
        "  DF = pd.read_parquet(\"/content/drive/MyDrive/frugal/datasets/train.parquet.gzip\")\n",
        "\n",
        "if REDO:\n",
        "  # linked to #TOTEST: if copying files from drive accelerate reading from them\n",
        "  base_data_path = './wav/'\n",
        "else:\n",
        "  base_data_path = '/content/drive/MyDrive/frugal/datasets/frugalai/wav/'\n",
        "\n",
        "# Create the 'fullpath' column first\n",
        "DF['fullpath'] = DF['path'].map(lambda x: path.join(base_data_path, x))\n",
        "# Now filter using the newly created 'fullpath' column\n",
        "DF = DF[DF['fullpath'].apply(lambda x: os.path.isfile(x))]\n",
        "DF.head()"
      ]
    },
    {
      "cell_type": "markdown",
      "metadata": {
        "id": "LqnpuM-G2jDr"
      },
      "source": [
        "#### Load wave file data\n",
        "\n",
        "We can then define a new function named `load_wav` to load audio samples from a wave file using TensorFlow's [`tf.io.read_file(...)`](https://www.tensorflow.org/api_docs/python/tf/io/read_file) and[`tf.audio.decode_wav(...)`](https://www.tensorflow.org/api_docs/python/tf/audio/decode_wav) API's. The [`tfio.audio.resample(...)`](https://www.tensorflow.org/io/api_docs/python/tfio/audio/resample) API will be used to resample the audio samples at the specified sampling rate.\n",
        "\n",
        "[librosa](https://librosa.org/)'s [`load(...)`](https://librosa.org/doc/main/generated/librosa.load.html) API will be used as a fallback if TensorFlow is unable to decode the wave file.\n"
      ]
    },
    {
      "cell_type": "code",
      "execution_count": 15,
      "metadata": {
        "id": "70RwxZs12iPZ"
      },
      "outputs": [],
      "source": [
        "import tensorflow_io as tfio\n",
        "import librosa\n",
        "\n",
        "def load_wav(filename, desired_sample_rate, desired_channels):\n",
        "  try:\n",
        "    file_contents = tf.io.read_file(filename)\n",
        "    wav, sample_rate = tf.audio.decode_wav(file_contents, desired_channels=desired_channels)\n",
        "    wav = tf.squeeze(wav, axis=-1)\n",
        "  except:\n",
        "    # fallback to librosa if the wav file can be read with TF\n",
        "    filename = tf.cast(filename, tf.string)\n",
        "    wav, sample_rate = librosa.load(filename.numpy().decode('utf-8'), sr=None, mono=(desired_channels == 1))\n",
        "\n",
        "  wav = tfio.audio.resample(wav, rate_in=tf.cast(sample_rate, dtype=tf.int64), rate_out=tf.cast(desired_sample_rate, dtype=tf.int64))\n",
        "\n",
        "  return wav"
      ]
    },
    {
      "cell_type": "markdown",
      "metadata": {
        "id": "P_2AYbxi5oIp"
      },
      "source": [
        "Now let's load the first wave file, from the pandas `DataFrame`, and plot it overtime using `matplotlib`. The [`IPython.display.Audio(...)`](https://ipython.org/ipython-doc/3/api/generated/IPython.display.html#IPython.display.Audio) API can be used to playback the audio samples inside the notebook.\n",
        "\n",
        "\n"
      ]
    },
    {
      "cell_type": "code",
      "execution_count": 16,
      "metadata": {
        "colab": {
          "base_uri": "https://localhost:8080/",
          "height": 488
        },
        "id": "YgLhGyi75bvI",
        "outputId": "2c57e6ed-abbc-4987-f8b5-58bafb4ac47a"
      },
      "outputs": [
        {
          "data": {
            "image/png": "[encoded data removed]",
            "text/plain": [
              "<Figure size 640x480 with 1 Axes>"
            ]
          },
          "metadata": {},
          "output_type": "display_data"
        },
        {
          "data": {
            "text/html": [
              "\n",
              "                <audio  controls=\"controls\" >\n",
              "                    <source src=\"data:audio/wav;base64,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\" type=\"audio/wav\" />\n",
              "                    Your browser does not support the audio element.\n",
              "                </audio>\n",
              "              "
            ],
            "text/plain": [
              "<IPython.lib.display.Audio object>"
            ]
          },
          "execution_count": 16,
          "metadata": {},
          "output_type": "execute_result"
        }
      ],
      "source": [
        "import matplotlib.pyplot as plt\n",
        "from IPython import display\n",
        "\n",
        "sample_rate = 12000\n",
        "channels = 1\n",
        "\n",
        "test_wav_file_path = DF.sample(1).reset_index(drop=True).iloc[0]['fullpath']\n",
        "test_wav_data = load_wav(test_wav_file_path, sample_rate, channels)\n",
        "\n",
        "plt.plot([x/12000 for x in range(len(test_wav_data))],test_wav_data)\n",
        "plt.show()\n",
        "\n",
        "display.Audio(test_wav_data, rate=sample_rate)"
      ]
    },
    {
      "cell_type": "markdown",
      "metadata": {
        "id": "sYg6G3ivfOPq"
      },
      "source": [
        "We can then use the [`tf.data.Dataset`](https://www.tensorflow.org/api_docs/python/tf/data/Dataset) TensorFlow API to create a pipeline that loads all wave file data from the dataset."
      ]
    },
    {
      "cell_type": "code",
      "execution_count": 17,
      "metadata": {
        "colab": {
          "base_uri": "https://localhost:8080/"
        },
        "id": "rcqe0aoE7Hdl",
        "outputId": "829864f7-5a62-4207-fcdb-cef0922fef78"
      },
      "outputs": [
        {
          "data": {
            "text/plain": [
              "(TensorSpec(shape=(), dtype=tf.string, name=None),\n",
              " TensorSpec(shape=(), dtype=tf.int64, name=None),\n",
              " TensorSpec(shape=(), dtype=tf.int64, name=None))"
            ]
          },
          "execution_count": 17,
          "metadata": {},
          "output_type": "execute_result"
        }
      ],
      "source": [
        "# DF['folds'] = range(len(DF))\n",
        "DF['folds'] = [x + 1 for x in range(len(DF))]\n",
        "DF['folds'] = DF['folds'].apply(lambda x: int(x)%5)\n",
        "DF[\"target\"] = DF[\"label\"]\n",
        "DF['target'] = DF['target'].astype('int64')\n",
        "DF['folds'] = DF['folds'].astype('int64')\n",
        "\n",
        "fullpaths = DF['fullpath']\n",
        "targets = DF['target']\n",
        "folds = DF['folds']\n",
        "\n",
        "fullpaths_ds = tf.data.Dataset.from_tensor_slices((fullpaths, targets, folds))\n",
        "fullpaths_ds.element_spec"
      ]
    },
    {
      "cell_type": "markdown",
      "metadata": {
        "id": "v2IJbEHPf2ok"
      },
      "source": [
        "Map each `fullpath` value to wave file samples:"
      ]
    },
    {
      "cell_type": "code",
      "execution_count": 18,
      "metadata": {
        "colab": {
          "base_uri": "https://localhost:8080/"
        },
        "id": "u-A6jYUz6lfI",
        "outputId": "080a0a18-656c-4aea-a16a-1afc1f4e7b75"
      },
      "outputs": [
        {
          "data": {
            "text/plain": [
              "(TensorSpec(shape=<unknown>, dtype=tf.float32, name=None),\n",
              " TensorSpec(shape=(), dtype=tf.int64, name=None),\n",
              " TensorSpec(shape=(), dtype=tf.int64, name=None))"
            ]
          },
          "execution_count": 18,
          "metadata": {},
          "output_type": "execute_result"
        }
      ],
      "source": [
        "def load_wav_for_map(fullpath, label, fold):\n",
        "  wav = tf.py_function(load_wav, [fullpath, sample_rate, channels], tf.float32)\n",
        "  return wav, label, fold\n",
        "\n",
        "wav_ds = fullpaths_ds.map(load_wav_for_map)\n",
        "wav_ds.element_spec"
      ]
    },
    {
      "cell_type": "markdown",
      "metadata": {
        "id": "V2RD4zXVRAJ2"
      },
      "source": [
        "#### Sanity checks\n",
        "\n",
        "Let's remove empty wav files"
      ]
    },
    {
      "cell_type": "code",
      "execution_count": 19,
      "metadata": {
        "id": "UnDQ_PDERIJl"
      },
      "outputs": [],
      "source": [
        "@tf.function\n",
        "def wav_not_empty(wav):\n",
        "  return tf.experimental.numpy.any(wav)\n",
        "\n",
        "split_wav_ds = wav_ds.filter(lambda x, y, z: wav_not_empty(x))"
      ]
    },
    {
      "cell_type": "markdown",
      "metadata": {
        "id": "XdV6yAYYhsBw"
      },
      "source": [
        "#### Create Spectrograms\n",
        "\n",
        "Rather than passing in the time series data directly into our TensorFlow model, we will transform the audio data into an audio spectrogram representation. This will create a 2D representation of the audio signal’s frequency content over time.\n",
        "\n",
        "The input audio signal we will use will have a sampling rate of 16kHz, this means one second of audio will contain 16,000 samples. Using TensorFlow’s [`tf.signal.stft(...)`](https://www.tensorflow.org/api_docs/python/tf/signal/stft) function we can transform a 3 second audio signal into a 2D tensor representation. We will choose a frame length of 256 and a frame step of 128, so the output of this feature extraction stage will be a Tensor that has a shape of `(280, 129)`.\n"
      ]
    },
    {
      "cell_type": "code",
      "execution_count": 20,
      "metadata": {
        "colab": {
          "base_uri": "https://localhost:8080/"
        },
        "id": "PzOXIaNkh9jW",
        "outputId": "2743db5b-0f56-4759-89e4-314060a6d3ab"
      },
      "outputs": [
        {
          "data": {
            "text/plain": [
              "TensorShape([280, 129])"
            ]
          },
          "execution_count": 20,
          "metadata": {},
          "output_type": "execute_result"
        }
      ],
      "source": [
        "@tf.function\n",
        "def create_spectrogram(samples):\n",
        "  SPC = tf.abs(\n",
        "      tf.signal.stft(samples, frame_length=256, frame_step=128)\n",
        "  )\n",
        "  # len(np.array(SPC[:,0])) == 280\n",
        "  # len(np.array(SPC[0,:])) == 129\n",
        "  SPC = tf.reshape(SPC, shape=(280, 129))\n",
        "  return SPC\n",
        "\n",
        "spectrogram = create_spectrogram(test_wav_data)\n",
        "spectrogram.shape"
      ]
    },
    {
      "cell_type": "markdown",
      "metadata": {
        "id": "mFq1Mpq_-Ecc"
      },
      "source": [
        "We can then create `plot_spectrogram` function to plot the spectrogram representation using `matplotlib`:"
      ]
    },
    {
      "cell_type": "code",
      "execution_count": 21,
      "metadata": {
        "colab": {
          "base_uri": "https://localhost:8080/",
          "height": 522
        },
        "id": "hrj38Jdiig3H",
        "outputId": "5dbc5115-6f66-4aa2-de35-ea4a02f4e28e"
      },
      "outputs": [
        {
          "data": {
            "image/png": "[encoded data removed]",
            "text/plain": [
              "<Figure size 800x600 with 2 Axes>"
            ]
          },
          "metadata": {},
          "output_type": "display_data"
        }
      ],
      "source": [
        "import numpy as np\n",
        "\n",
        "def plot_spectrogram(spectrogram, vmax=None):\n",
        "  transposed_spectrogram = tf.transpose(spectrogram)\n",
        "\n",
        "  fig = plt.figure(figsize=(8,6))\n",
        "  height = transposed_spectrogram.shape[0]\n",
        "  X = np.arange(transposed_spectrogram.shape[1])\n",
        "  Y = np.arange(height * int(sample_rate / 256), step=int(sample_rate / 256))\n",
        "\n",
        "  im = plt.pcolormesh(X, Y, tf.transpose(spectrogram), vmax=vmax)\n",
        "\n",
        "  fig.colorbar(im)\n",
        "  plt.show()\n",
        "\n",
        "\n",
        "plot_spectrogram(spectrogram)"
      ]
    },
    {
      "cell_type": "markdown",
      "metadata": {
        "id": "THC4DDLg-SyA"
      },
      "source": [
        "Then we can map each split wave item to a spectrogram:"
      ]
    },
    {
      "cell_type": "code",
      "execution_count": 22,
      "metadata": {
        "id": "eLtJztYgZYfB"
      },
      "outputs": [],
      "source": [
        "import cmsisdsp\n",
        "from numpy import pi as PI\n",
        "\n",
        "window_size = 256\n",
        "step_size = 128\n",
        "\n",
        "hanning_window_f32 = np.zeros(window_size)\n",
        "for i in range(window_size):\n",
        "  hanning_window_f32[i] = 0.5 * (1 - cmsisdsp.arm_cos_f32(2 * PI * i / window_size ))\n",
        "\n",
        "hanning_window_q15 = cmsisdsp.arm_float_to_q15(hanning_window_f32)\n",
        "\n",
        "rfftq15 = cmsisdsp.arm_rfft_instance_q15()\n",
        "status = cmsisdsp.arm_rfft_init_q15(rfftq15, window_size, 0, 1)\n",
        "\n",
        "def get_arm_spectrogram(waveform):\n",
        "\n",
        "  num_frames = int(1 + (len(waveform) - window_size) // step_size)\n",
        "  fft_size = int(window_size // 2 + 1)\n",
        "  # normalisation du son\n",
        "  waveform = waveform/np.max(np.abs(waveform))-np.mean(waveform)\n",
        "  # Convert the audio to q15\n",
        "  waveform_q15 = cmsisdsp.arm_float_to_q15(waveform)\n",
        "  #print(waveform_q15)\n",
        "  # Create empty spectrogram array\n",
        "  spectrogram_q15 = np.empty((num_frames, fft_size), dtype = np.int16)\n",
        "\n",
        "  start_index = 0\n",
        "\n",
        "  for index in range(num_frames):\n",
        "    # Take the window from the waveform.\n",
        "    window = waveform_q15[start_index:start_index + window_size]\n",
        "\n",
        "    # Apply the Hanning Window.\n",
        "    window = cmsisdsp.arm_mult_q15(window, hanning_window_q15)\n",
        "\n",
        "    # Calculate the FFT, shift by 7 according to docs\n",
        "    window = cmsisdsp.arm_rfft_q15(rfftq15, window)\n",
        "\n",
        "    # Take the absolute value of the FFT and add to the Spectrogram.\n",
        "    spectrogram_q15[index] = cmsisdsp.arm_cmplx_mag_q15(window)[:fft_size]\n",
        "\n",
        "    # Increase the start index of the window by the overlap amount.\n",
        "    start_index += step_size\n",
        "\n",
        "  # Convert to numpy output ready for keras\n",
        "  OUT = cmsisdsp.arm_q15_to_float(spectrogram_q15).reshape(num_frames,fft_size) * 512\n",
        "  return tf.reshape(OUT, shape=(280, 129))"
      ]
    },
    {
      "cell_type": "code",
      "execution_count": 23,
      "metadata": {
        "id": "z8CN_lC5hg8-"
      },
      "outputs": [],
      "source": [
        "@tf.function\n",
        "def create_mel_spectrogram(samples, sample_rate=16000, num_mel_bins=128):\n",
        "    # Compute the STFT\n",
        "    stft = tf.signal.stft(samples, frame_length=256, frame_step=128)\n",
        "    spectrogram = tf.abs(stft)\n",
        "\n",
        "    # Define the Mel filter bank\n",
        "    num_spectrogram_bins = stft.shape[-1]\n",
        "    lower_edge_hertz = 80.0  # Lower frequency bound\n",
        "    upper_edge_hertz = sample_rate / 2.0  # Nyquist frequency\n",
        "\n",
        "    # Create the Mel weight matrix\n",
        "    linear_to_mel_weight_matrix = tf.signal.linear_to_mel_weight_matrix(\n",
        "        num_mel_bins=num_mel_bins,\n",
        "        num_spectrogram_bins=num_spectrogram_bins,\n",
        "        sample_rate=sample_rate,\n",
        "        lower_edge_hertz=lower_edge_hertz,\n",
        "        upper_edge_hertz=upper_edge_hertz,\n",
        "    )\n",
        "\n",
        "    # Apply the Mel transformation\n",
        "    mel_spectrogram = tf.matmul(spectrogram, linear_to_mel_weight_matrix)\n",
        "    #mel_spectrogram = tf.reshape(mel_spectrogram, shape=(280, 129))\n",
        "    return mel_spectrogram"
      ]
    },
    {
      "cell_type": "code",
      "execution_count": 24,
      "metadata": {
        "colab": {
          "base_uri": "https://localhost:8080/"
        },
        "id": "Xw-KTABdvSpG",
        "outputId": "27d5b2bc-65f5-4f79-9a47-a9a9c88e81cf"
      },
      "outputs": [
        {
          "name": "stdout",
          "output_type": "stream",
          "text": [
            "Passed through  create_arm_spectrogram_for_map\n"
          ]
        }
      ],
      "source": [
        "def create_spectrogram_for_map(samples, label, fold):\n",
        "    return create_spectrogram(samples), label, fold\n",
        "\n",
        "def create_arm_spectrogram_for_map(samples, label, fold):\n",
        "  spectrogram = tf.py_function(get_arm_spectrogram, [samples], tf.float32)\n",
        "  return spectrogram, label, fold\n",
        "\n",
        "def create_mel_spectrogram_for_map(samples, label, fold):\n",
        "  spectrogram = tf.py_function(create_mel_spectrogram, [samples], tf.float32)\n",
        "  return spectrogram, label, fold\n",
        "\n",
        "\n",
        "if spectrogram_setting == \"create_arm_spectrogram_for_map\":\n",
        "    spectrograms_ds = split_wav_ds.map(create_arm_spectrogram_for_map)\n",
        "    spectrograms_ds.element_spec\n",
        "elif spectrogram_setting == \"create_mel_spectrogram_for_map\":\n",
        "    spectrograms_ds = split_wav_ds.map(create_mel_spectrogram_for_map)\n",
        "    spectrograms_ds.element_spec\n",
        "else:\n",
        "    spectrograms_ds = split_wav_ds.map(create_spectrogram_for_map)\n",
        "    spectrograms_ds.element_spec\n",
        "print(\"Passed through \",spectrogram_setting)\n"
      ]
    },
    {
      "cell_type": "markdown",
      "metadata": {
        "id": "nMFP7b-l-kOb"
      },
      "source": [
        "Let's plot the first 3 spectrograms in the dataset:"
      ]
    },
    {
      "cell_type": "code",
      "execution_count": 25,
      "metadata": {
        "colab": {
          "base_uri": "https://localhost:8080/",
          "height": 1000
        },
        "collapsed": true,
        "id": "Cc3fqcs6lMal",
        "outputId": "21c0f0be-dfdf-47d7-baf5-c547fb927cdc"
      },
      "outputs": [
        {
          "data": {
            "image/png": "[encoded data removed]",
            "text/plain": [
              "<Figure size 800x600 with 2 Axes>"
            ]
          },
          "metadata": {},
          "output_type": "display_data"
        },
        {
          "data": {
            "image/png": "[encoded data removed]",
            "text/plain": [
              "<Figure size 800x600 with 2 Axes>"
            ]
          },
          "metadata": {},
          "output_type": "display_data"
        },
        {
          "data": {
            "image/png": "[encoded data removed]",
            "text/plain": [
              "<Figure size 800x600 with 2 Axes>"
            ]
          },
          "metadata": {},
          "output_type": "display_data"
        }
      ],
      "source": [
        "# 1min\n",
        "for s, _, _ in spectrograms_ds.take(3):\n",
        "  plot_spectrogram(s)"
      ]
    },
    {
      "cell_type": "markdown",
      "metadata": {
        "id": "OrCmiQVyQ_NB"
      },
      "source": [
        "### Split Dataset\n",
        "\n",
        "Before we start training the ML classifier model, we must split the dataset up in three parts: training, validation, and test.\n",
        "\n",
        "We will use the same technique in TensorFlow's [Transfer learning with YAMNet for environmental sound classification](https://www.tensorflow.org/tutorials/audio/transfer_learning_audio#split_the_data) guide, and use the `fold` column of the ESC-50 dataset to determine the split.\n",
        "\n",
        "Before splitting the dataset, let's set a random seed for reproducibility:"
      ]
    },
    {
      "cell_type": "code",
      "execution_count": 26,
      "metadata": {
        "id": "T3bR-BHBRCYi"
      },
      "outputs": [],
      "source": [
        "import numpy as np\n",
        "import tensorflow as tf\n",
        "\n",
        "\n",
        "random_seed = 42\n",
        "tf.random.set_seed(random_seed)\n",
        "np.random.seed(random_seed)"
      ]
    },
    {
      "cell_type": "markdown",
      "metadata": {
        "id": "kq3kDVG9_nhW"
      },
      "source": [
        "Entries with a `fold` value of less than 4 will used for training, the ones with a `value` will be used for validation, and finally the remaining items with be used for testing.\n",
        "\n",
        "The `fold` column will be removed as it is no longer needed, and the dimensions of the spectrogram shape will be expanded from `(124, 129)` to `(124, 129, 1)`. The training items will also be shuffled."
      ]
    },
    {
      "cell_type": "code",
      "execution_count": 27,
      "metadata": {
        "id": "PlHGJYjHCLjQ"
      },
      "outputs": [],
      "source": [
        "#15s\n",
        "cached_ds = spectrograms_ds.cache()"
      ]
    },
    {
      "cell_type": "code",
      "execution_count": 28,
      "metadata": {
        "id": "YEBtbdlbCQA1"
      },
      "outputs": [],
      "source": [
        "WeWantToSaveSpectroAsImgs = False\n",
        "\n",
        "def explode_array_column(row):\n",
        "  return pd.Series(row['spectrogram'])\n",
        "\n",
        "if WeWantToSaveSpectroAsImgs:\n",
        "  SAMPLESTOSAVE = 50 # 5 samples took 22s // 50 for 35s\n",
        "  import tensorflow_datasets as tfds\n",
        "\n",
        "  for labeltarget in [0,1]:\n",
        "    SORTED = cached_ds.filter(lambda spectrogram, label, fold: label == labeltarget)\n",
        "\n",
        "    signal = [x[0].astype(np.float16) for x in SORTED.take(SAMPLESTOSAVE).as_numpy_iterator()]\n",
        "    label  = [x[1].astype(np.int8)    for x in SORTED.take(SAMPLESTOSAVE).as_numpy_iterator()]\n",
        "    fold   = [x[2].astype(np.int8)    for x in SORTED.take(SAMPLESTOSAVE).as_numpy_iterator()]\n",
        "    np.savez(\"/content/drive/MyDrive/frugal/v5_\"+spectrogram_setting+\"_label\"+str(labeltarget)+\".npz\",signal = signal, label=label, fold=fold)\n"
      ]
    },
    {
      "cell_type": "code",
      "execution_count": 29,
      "metadata": {
        "id": "7uJrWkDEhW6X"
      },
      "outputs": [],
      "source": [
        "BATCHSIZE=32"
      ]
    },
    {
      "cell_type": "code",
      "execution_count": 30,
      "metadata": {
        "colab": {
          "base_uri": "https://localhost:8080/"
        },
        "collapsed": true,
        "id": "SyclwrPnMEIh",
        "outputId": "49b3a6aa-4db3-4fb3-f114-f454d3df46ca"
      },
      "outputs": [
        {
          "name": "stderr",
          "output_type": "stream",
          "text": [
            "WARNING:tensorflow:5 out of the last 5 calls to <function pfor.<locals>.f at 0x7abd4c156980> triggered tf.function retracing. Tracing is expensive and the excessive number of tracings could be due to (1) creating @tf.function repeatedly in a loop, (2) passing tensors with different shapes, (3) passing Python objects instead of tensors. For (1), please define your @tf.function outside of the loop. For (2), @tf.function has reduce_retracing=True option that can avoid unnecessary retracing. For (3), please refer to https://www.tensorflow.org/guide/function#controlling_retracing and https://www.tensorflow.org/api_docs/python/tf/function for  more details.\n"
          ]
        },
        {
          "name": "stdout",
          "output_type": "stream",
          "text": [
            "The spectrogram Shape <unknown>\n",
            "The spectrogram Shape <unknown>\n",
            "The spectrogram Shape <unknown>\n",
            "Before batch: spectrogram shape: (280, 129, 1), label shape: ()\n"
          ]
        },
        {
          "name": "stderr",
          "output_type": "stream",
          "text": [
            "WARNING:tensorflow:6 out of the last 6 calls to <function pfor.<locals>.f at 0x7abd4c157600> triggered tf.function retracing. Tracing is expensive and the excessive number of tracings could be due to (1) creating @tf.function repeatedly in a loop, (2) passing tensors with different shapes, (3) passing Python objects instead of tensors. For (1), please define your @tf.function outside of the loop. For (2), @tf.function has reduce_retracing=True option that can avoid unnecessary retracing. For (3), please refer to https://www.tensorflow.org/guide/function#controlling_retracing and https://www.tensorflow.org/api_docs/python/tf/function for  more details.\n"
          ]
        }
      ],
      "source": [
        "train_ds = cached_ds.filter(lambda spectrogram, label, fold: fold < 3)\n",
        "val_ds = cached_ds.filter(lambda spectrogram, label, fold: fold == 3)\n",
        "test_ds = cached_ds.filter(lambda spectrogram, label, fold: fold > 3)\n",
        "\n",
        "# remove the folds column as it's no longer needed\n",
        "# remove_fold_column = lambda spectrogram, label, fold: (tf.expand_dims(spectrogram, axis=-1), label)\n",
        "\n",
        "def remove_fold_column(spectrogram, label, fold):\n",
        "    spectrogram = tf.expand_dims(spectrogram, axis=-1)\n",
        "    print(\"The spectrogram Shape\", spectrogram.shape)\n",
        "    if spectrogram_setting == \"create_mel_spectrogram_for_map\":\n",
        "      spectrogram.set_shape([280, 128, 1])\n",
        "    else:\n",
        "      spectrogram.set_shape([280, 129, 1])\n",
        "    return spectrogram, label\n",
        "\n",
        "\n",
        "train_ds = train_ds.map(remove_fold_column)\n",
        "val_ds = val_ds.map(remove_fold_column)\n",
        "test_ds = test_ds.map(remove_fold_column)\n",
        "\n",
        "# Inspect the data shape before batching\n",
        "for spectrogram, label in train_ds.take(1):\n",
        "    print(f\"Before batch: spectrogram shape: {spectrogram.shape}, label shape: {label.shape}\")\n",
        "\n",
        "train_ds = train_ds.cache()  # Cache the dataset first to keep data in memory\n",
        "train_ds = train_ds.shuffle(buffer_size=100, seed=random_seed)  # Shuffle after caching\n",
        "train_ds = train_ds.batch(BATCHSIZE, drop_remainder=True)  # Batch the dataset\n",
        "train_ds = train_ds.prefetch(tf.data.AUTOTUNE).cache()  # Prefetch the data for better performance\n",
        "val_ds = val_ds.cache().batch(BATCHSIZE, drop_remainder=True).prefetch(tf.data.AUTOTUNE).cache()\n",
        "test_ds = test_ds.cache().batch(BATCHSIZE, drop_remainder=True).prefetch(tf.data.AUTOTUNE).cache()\n"
      ]
    },
    {
      "cell_type": "code",
      "execution_count": 31,
      "metadata": {
        "colab": {
          "base_uri": "https://localhost:8080/"
        },
        "id": "O8C_MUSNV69W",
        "outputId": "21fd1f55-254e-4f07-8ee6-a452cfb7428c"
      },
      "outputs": [
        {
          "data": {
            "text/plain": [
              "array([1, 2, 3, 4, 0])"
            ]
          },
          "execution_count": 31,
          "metadata": {},
          "output_type": "execute_result"
        }
      ],
      "source": [
        "DF['folds'].unique()"
      ]
    },
    {
      "cell_type": "code",
      "execution_count": 32,
      "metadata": {
        "colab": {
          "base_uri": "https://localhost:8080/"
        },
        "id": "11AMctrTD6D7",
        "outputId": "fdfd6797-c97d-443d-bd61-8d572b8b5b73"
      },
      "outputs": [
        {
          "data": {
            "text/plain": [
              "<_MapDataset element_spec=(TensorSpec(shape=<unknown>, dtype=tf.float32, name=None), TensorSpec(shape=(), dtype=tf.int64, name=None), TensorSpec(shape=(), dtype=tf.int64, name=None))>"
            ]
          },
          "execution_count": 32,
          "metadata": {},
          "output_type": "execute_result"
        }
      ],
      "source": [
        "spectrograms_ds"
      ]
    },
    {
      "cell_type": "markdown",
      "metadata": {
        "id": "LIdHUP8mRF-9"
      },
      "source": [
        "### Train Model\n",
        "\n",
        "Now that we have the features extracted from the audio signal, we can create a model using TensorFlow’s Keras  API. The model will consist of 8 layers:\n",
        "\n",
        " 1. An input layer.\n",
        " 1. A preprocessing layer, that will resize the input tensor from 124x129x1 to 32x32x1.\n",
        " 1. A normalization layer, that will scale the input values between -1 and 1\n",
        " 1. A 2D convolution layer with: 8 filters, a kernel size of 8x8, and stride of 2x2, and ReLU activation function.\n",
        " 1. A 2D max pooling layer with size of 2x2\n",
        " 1. A flatten layer to flatten the 2D data to 1D\n",
        " 1. A dropout layer, that will help reduce overfitting during training\n",
        " 1. A dense layer with 50 outputs and a softmax activation function, which outputs the likelihood of the sound category (between 0 and 1).\n"
      ]
    },
    {
      "cell_type": "markdown",
      "metadata": {
        "id": "pbTAU5yZA43R"
      },
      "source": [
        "Before we build the model using [Tensflow's Keras API's](https://www.tensorflow.org/api_docs/python/tf/keras), we will create normalization layer and feed in all the spectrogram dataset items."
      ]
    },
    {
      "cell_type": "code",
      "execution_count": 33,
      "metadata": {
        "colab": {
          "base_uri": "https://localhost:8080/"
        },
        "id": "fFLHe9y-iGmj",
        "outputId": "9bbd2626-bd3a-45bb-9b1a-92a01a38741b"
      },
      "outputs": [
        {
          "name": "stdout",
          "output_type": "stream",
          "text": [
            "Input shape: (280, 129, 1)\n",
            "Norm Data Shape: (280, 129, 1)\n"
          ]
        }
      ],
      "source": [
        "#around 1min\n",
        "for spectrogram, _, _ in cached_ds.take(1):\n",
        "    input_shape = tf.expand_dims(spectrogram, axis=-1).shape\n",
        "    print('Input shape:', input_shape)\n",
        "    norm_data = tf.reshape(spectrogram, (input_shape[0], input_shape[1], 1))\n",
        "    print(\"Norm Data Shape:\", norm_data.shape)\n",
        "\n",
        "norm_layer = tf.keras.layers.Normalization()\n",
        "norm_layer.adapt(norm_data)"
      ]
    },
    {
      "cell_type": "markdown",
      "metadata": {
        "id": "W3N5rys9EF8B"
      },
      "source": [
        "Define a sequential 8 layer model as described above:"
      ]
    },
    {
      "cell_type": "code",
      "execution_count": 34,
      "metadata": {
        "colab": {
          "base_uri": "https://localhost:8080/"
        },
        "id": "XyO5ilzPPePi",
        "outputId": "022f775e-2b5a-4735-cb7a-f46af45f6cdc"
      },
      "outputs": [
        {
          "name": "stdout",
          "output_type": "stream",
          "text": [
            "Loading the create_arm_spectrogram_for_map model\n",
            "Model: \"sequential\"\n",
            "_________________________________________________________________\n",
            " Layer (type)                Output Shape              Param #   \n",
            "=================================================================\n",
            " resizing (Resizing)         (None, 32, 32, 1)         0         \n",
            "                                                                 \n",
            " normalization (Normalizati  (None, 32, 32, 1)         3         \n",
            " on)                                                             \n",
            "                                                                 \n",
            " conv2d (Conv2D)             (None, 13, 13, 8)         520       \n",
            "                                                                 \n",
            " max_pooling2d (MaxPooling2  (None, 6, 6, 8)           0         \n",
            " D)                                                              \n",
            "                                                                 \n",
            " flatten (Flatten)           (None, 288)               0         \n",
            "                                                                 \n",
            " dropout (Dropout)           (None, 288)               0         \n",
            "                                                                 \n",
            " dense (Dense)               (None, 2)                 578       \n",
            "                                                                 \n",
            "=================================================================\n",
            "Total params: 1101 (4.30 KB)\n",
            "Trainable params: 1098 (4.29 KB)\n",
            "Non-trainable params: 3 (16.00 Byte)\n",
            "_________________________________________________________________\n"
          ]
        }
      ],
      "source": [
        "if os.path.isfile(f\"/content/drive/MyDrive/frugal/baseline_model_v5_{spectrogram_setting}.keras\"):\n",
        "  print(\"Loading the \"+spectrogram_setting+\" model\")\n",
        "  baseline_model = tf.keras.models.load_model(f\"/content/drive/MyDrive/frugal/baseline_model_v5_{spectrogram_setting}.keras\")\n",
        "else:\n",
        "  # baseline_model = tf.keras.models.Sequential([\n",
        "  # https://stackoverflow.com/questions/66879748/what-is-the-difference-between-tf-keras-model-and-tf-keras-sequential\n",
        "  baseline_model = tf.keras.models.Sequential([\n",
        "  tf.keras.layers.Input(shape=input_shape),\n",
        "  tf.keras.layers.Resizing(32, 32, interpolation=\"nearest\"),\n",
        "  norm_layer,\n",
        "  tf.keras.layers.Conv2D(8, kernel_size=(8,8), strides=(2, 2), activation=\"relu\"),\n",
        "  tf.keras.layers.MaxPool2D(pool_size=(2,2)),\n",
        "  tf.keras.layers.Flatten(),\n",
        "  tf.keras.layers.Dropout(0.25),\n",
        "  tf.keras.layers.Dense(2, activation='softmax')])\n",
        "\n",
        "baseline_model.summary()"
      ]
    },
    {
      "cell_type": "markdown",
      "metadata": {
        "id": "N4PgoMF8ENpu"
      },
      "source": [
        "Compile the model with `accuracy` metrics, an Adam optimizer and a sparse categorical crossentropy loss function. As well as define early stopping and dynamic learning rate scheduler callbacks for training."
      ]
    },
    {
      "cell_type": "code",
      "execution_count": 35,
      "metadata": {
        "id": "pW1jy6yoJyKz"
      },
      "outputs": [],
      "source": [
        "if os.path.isfile(f\"/content/drive/MyDrive/frugal/baseline_model_v5_create_arm_spectrogram_for_map.keras\"):\n",
        "  if not os.path.isfile(f\"/content/drive/MyDrive/frugal/baseline_model_v5_create_spectrogram_for_map.keras\"):\n",
        "    print(\"Loading default spectrogram if arm already done\")\n",
        "    baseline_model = tf.keras.models.load_model(f\"/content/drive/MyDrive/frugal/baseline_model_v5_create_arm_spectrogram_for_map.keras\")"
      ]
    },
    {
      "cell_type": "code",
      "execution_count": 36,
      "metadata": {
        "id": "8bDSOjniYBLF"
      },
      "outputs": [],
      "source": [
        "# Define metrics for model evaluation\n",
        "METRICS = [\n",
        "    \"accuracy\",\n",
        "]\n",
        "\n",
        "# Compile the model\n",
        "baseline_model.compile(\n",
        "    optimizer=tf.keras.optimizers.Adam(learning_rate=0.001),\n",
        "    loss=tf.keras.losses.SparseCategoricalCrossentropy(from_logits=False),\n",
        "    metrics=METRICS,\n",
        ")\n",
        "\n",
        "# Learning rate scheduler\n",
        "def scheduler(epoch, lr):\n",
        "    if epoch < 10:\n",
        "        return lr\n",
        "    else:\n",
        "        return lr * tf.math.exp(-0.1)\n",
        "\n",
        "# Define callbacks\n",
        "callbacks = [\n",
        "    tf.keras.callbacks.EarlyStopping(verbose=1, patience=25),\n",
        "    tf.keras.callbacks.LearningRateScheduler(scheduler),\n",
        "]"
      ]
    },
    {
      "cell_type": "markdown",
      "metadata": {
        "id": "FBUof7CcErKE"
      },
      "source": [
        "Train the model:"
      ]
    },
    {
      "cell_type": "code",
      "execution_count": 37,
      "metadata": {
        "colab": {
          "base_uri": "https://localhost:8080/"
        },
        "collapsed": true,
        "id": "lqs-O9o8QV58",
        "outputId": "6d70ba63-3641-4758-f0a7-38c03bb322ee"
      },
      "outputs": [
        {
          "name": "stdout",
          "output_type": "stream",
          "text": [
            "200 32 20\n",
            "Epoch 1/40\n",
            "20/20 [==============================] - 95s 4s/step - loss: 0.5306 - accuracy: 0.8766 - val_loss: 2.8778 - val_accuracy: 0.7969 - lr: 0.0010\n",
            "Epoch 2/40\n",
            "20/20 [==============================] - 0s 11ms/step - loss: 0.4032 - accuracy: 0.9000 - val_loss: 2.7295 - val_accuracy: 0.7969 - lr: 0.0010\n",
            "Epoch 3/40\n",
            "20/20 [==============================] - 0s 9ms/step - loss: 0.3312 - accuracy: 0.9125 - val_loss: 2.7052 - val_accuracy: 0.7969 - lr: 0.0010\n",
            "Epoch 4/40\n",
            "20/20 [==============================] - 0s 9ms/step - loss: 0.3937 - accuracy: 0.8844 - val_loss: 2.5052 - val_accuracy: 0.7812 - lr: 0.0010\n",
            "Epoch 5/40\n",
            "20/20 [==============================] - 0s 9ms/step - loss: 0.4235 - accuracy: 0.8969 - val_loss: 2.5058 - val_accuracy: 0.7969 - lr: 0.0010\n",
            "Epoch 6/40\n",
            "20/20 [==============================] - 0s 10ms/step - loss: 0.3444 - accuracy: 0.9047 - val_loss: 2.5878 - val_accuracy: 0.7969 - lr: 0.0010\n",
            "Epoch 7/40\n",
            "20/20 [==============================] - 0s 9ms/step - loss: 0.3187 - accuracy: 0.9047 - val_loss: 2.5472 - val_accuracy: 0.7969 - lr: 0.0010\n",
            "Epoch 8/40\n",
            "20/20 [==============================] - 0s 10ms/step - loss: 0.3106 - accuracy: 0.9172 - val_loss: 2.8368 - val_accuracy: 0.7969 - lr: 0.0010\n",
            "Epoch 9/40\n",
            "20/20 [==============================] - 0s 12ms/step - loss: 0.3179 - accuracy: 0.9094 - val_loss: 2.4629 - val_accuracy: 0.8281 - lr: 0.0010\n",
            "Epoch 10/40\n",
            "20/20 [==============================] - 0s 12ms/step - loss: 0.3009 - accuracy: 0.9125 - val_loss: 2.4627 - val_accuracy: 0.7812 - lr: 0.0010\n",
            "Epoch 11/40\n",
            "20/20 [==============================] - 0s 10ms/step - loss: 0.2614 - accuracy: 0.9172 - val_loss: 2.4268 - val_accuracy: 0.7812 - lr: 9.0484e-04\n",
            "Epoch 12/40\n",
            "20/20 [==============================] - 0s 11ms/step - loss: 0.2525 - accuracy: 0.9234 - val_loss: 2.3783 - val_accuracy: 0.7969 - lr: 8.1873e-04\n",
            "Epoch 13/40\n",
            "20/20 [==============================] - 0s 11ms/step - loss: 0.2888 - accuracy: 0.9078 - val_loss: 2.5118 - val_accuracy: 0.7969 - lr: 7.4082e-04\n",
            "Epoch 14/40\n",
            "20/20 [==============================] - 0s 12ms/step - loss: 0.2308 - accuracy: 0.9281 - val_loss: 2.3380 - val_accuracy: 0.7969 - lr: 6.7032e-04\n",
            "Epoch 15/40\n",
            "20/20 [==============================] - 0s 10ms/step - loss: 0.2382 - accuracy: 0.9172 - val_loss: 2.3090 - val_accuracy: 0.8125 - lr: 6.0653e-04\n",
            "Epoch 16/40\n",
            "20/20 [==============================] - 0s 9ms/step - loss: 0.2665 - accuracy: 0.9094 - val_loss: 2.4519 - val_accuracy: 0.7969 - lr: 5.4881e-04\n",
            "Epoch 17/40\n",
            "20/20 [==============================] - 0s 10ms/step - loss: 0.2370 - accuracy: 0.9328 - val_loss: 2.5216 - val_accuracy: 0.7969 - lr: 4.9659e-04\n",
            "Epoch 18/40\n",
            "20/20 [==============================] - 0s 13ms/step - loss: 0.2146 - accuracy: 0.9375 - val_loss: 2.4992 - val_accuracy: 0.7969 - lr: 4.4933e-04\n",
            "Epoch 19/40\n",
            "20/20 [==============================] - 0s 10ms/step - loss: 0.1835 - accuracy: 0.9375 - val_loss: 2.4127 - val_accuracy: 0.7969 - lr: 4.0657e-04\n",
            "Epoch 20/40\n",
            "20/20 [==============================] - 0s 10ms/step - loss: 0.2190 - accuracy: 0.9359 - val_loss: 2.5076 - val_accuracy: 0.7969 - lr: 3.6788e-04\n",
            "Epoch 21/40\n",
            "20/20 [==============================] - 0s 9ms/step - loss: 0.2525 - accuracy: 0.9344 - val_loss: 2.4306 - val_accuracy: 0.7969 - lr: 3.3287e-04\n",
            "Epoch 22/40\n",
            "20/20 [==============================] - 0s 11ms/step - loss: 0.2412 - accuracy: 0.9187 - val_loss: 2.4299 - val_accuracy: 0.7969 - lr: 3.0119e-04\n",
            "Epoch 23/40\n",
            "20/20 [==============================] - 0s 9ms/step - loss: 0.2114 - accuracy: 0.9328 - val_loss: 2.4534 - val_accuracy: 0.7969 - lr: 2.7253e-04\n",
            "Epoch 24/40\n",
            "20/20 [==============================] - 0s 10ms/step - loss: 0.1543 - accuracy: 0.9547 - val_loss: 2.4967 - val_accuracy: 0.7969 - lr: 2.4660e-04\n",
            "Epoch 25/40\n",
            "20/20 [==============================] - 0s 10ms/step - loss: 0.1969 - accuracy: 0.9422 - val_loss: 2.4590 - val_accuracy: 0.7969 - lr: 2.2313e-04\n",
            "Epoch 26/40\n",
            "20/20 [==============================] - 0s 12ms/step - loss: 0.1832 - accuracy: 0.9406 - val_loss: 2.4322 - val_accuracy: 0.7969 - lr: 2.0190e-04\n",
            "Epoch 27/40\n",
            "20/20 [==============================] - 0s 10ms/step - loss: 0.1751 - accuracy: 0.9453 - val_loss: 2.3859 - val_accuracy: 0.7969 - lr: 1.8268e-04\n",
            "Epoch 28/40\n",
            "20/20 [==============================] - 0s 10ms/step - loss: 0.1947 - accuracy: 0.9250 - val_loss: 2.3655 - val_accuracy: 0.7969 - lr: 1.6530e-04\n",
            "Epoch 29/40\n",
            "20/20 [==============================] - 0s 10ms/step - loss: 0.1809 - accuracy: 0.9422 - val_loss: 2.3629 - val_accuracy: 0.7969 - lr: 1.4957e-04\n",
            "Epoch 30/40\n",
            "20/20 [==============================] - 0s 10ms/step - loss: 0.2204 - accuracy: 0.9297 - val_loss: 2.4156 - val_accuracy: 0.7969 - lr: 1.3534e-04\n",
            "Epoch 31/40\n",
            "20/20 [==============================] - 0s 9ms/step - loss: 0.1756 - accuracy: 0.9438 - val_loss: 2.4347 - val_accuracy: 0.7969 - lr: 1.2246e-04\n",
            "Epoch 32/40\n",
            "20/20 [==============================] - 0s 11ms/step - loss: 0.2308 - accuracy: 0.9359 - val_loss: 2.4078 - val_accuracy: 0.7969 - lr: 1.1080e-04\n",
            "Epoch 33/40\n",
            "20/20 [==============================] - 0s 10ms/step - loss: 0.1896 - accuracy: 0.9266 - val_loss: 2.3926 - val_accuracy: 0.7969 - lr: 1.0026e-04\n",
            "Epoch 34/40\n",
            "20/20 [==============================] - 0s 10ms/step - loss: 0.1763 - accuracy: 0.9406 - val_loss: 2.4320 - val_accuracy: 0.7969 - lr: 9.0718e-05\n",
            "Epoch 35/40\n",
            "20/20 [==============================] - 0s 9ms/step - loss: 0.1601 - accuracy: 0.9422 - val_loss: 2.4525 - val_accuracy: 0.7969 - lr: 8.2085e-05\n",
            "Epoch 36/40\n",
            "20/20 [==============================] - 0s 10ms/step - loss: 0.1618 - accuracy: 0.9438 - val_loss: 2.4451 - val_accuracy: 0.7969 - lr: 7.4274e-05\n",
            "Epoch 37/40\n",
            "20/20 [==============================] - 0s 9ms/step - loss: 0.1971 - accuracy: 0.9344 - val_loss: 2.4239 - val_accuracy: 0.7969 - lr: 6.7206e-05\n",
            "Epoch 38/40\n",
            "20/20 [==============================] - 0s 10ms/step - loss: 0.2053 - accuracy: 0.9391 - val_loss: 2.4089 - val_accuracy: 0.7969 - lr: 6.0810e-05\n",
            "Epoch 39/40\n",
            "20/20 [==============================] - 0s 15ms/step - loss: 0.2334 - accuracy: 0.9266 - val_loss: 2.3990 - val_accuracy: 0.7969 - lr: 5.5023e-05\n",
            "Epoch 40/40\n",
            "20/20 [==============================] - 0s 16ms/step - loss: 0.1974 - accuracy: 0.9281 - val_loss: 2.4006 - val_accuracy: 0.7969 - lr: 4.9787e-05\n",
            "Epoch 40: early stopping\n"
          ]
        }
      ],
      "source": [
        "# Durée de training:\n",
        "# 570s / epoch for 200/20 (train/val) for batches of 32 (or with caching maybe, 416s for 200/20 in 32-batches -2s per batch)  (GPU)\n",
        "# Now at 16/s for 32batches (GPU)\n",
        "# Now at 17s/step with CPU\n",
        "# Now at 16s/step for 32 batches (TPU v28)\n",
        "# 8-batches; 500ms per batch  (GPU)\n",
        "# 307s per step for batches of 256 elements  (GPU)\n",
        "EPOCHS = 40\n",
        "Ntrain = 200\n",
        "NRecalc = int(20*32/BATCHSIZE)\n",
        "print(Ntrain,BATCHSIZE,NRecalc)\n",
        "history = baseline_model.fit(\n",
        "    train_ds.take(NRecalc).cache(),\n",
        "    validation_data=val_ds.take(NRecalc//10).cache(),\n",
        "    epochs=EPOCHS,\n",
        "    callbacks=callbacks\n",
        ")"
      ]
    },
    {
      "cell_type": "markdown",
      "metadata": {
        "id": "AjnfP2hCFB9z"
      },
      "source": [
        "Evaluate the loss and accuracy of the test dataset:"
      ]
    },
    {
      "cell_type": "code",
      "execution_count": 38,
      "metadata": {
        "colab": {
          "base_uri": "https://localhost:8080/",
          "height": 451
        },
        "id": "EUkD7k3uZ-ZT",
        "outputId": "cd2d2e0d-f5e0-4200-a7a6-d6493baaad97"
      },
      "outputs": [
        {
          "data": {
            "text/plain": [
              "<matplotlib.legend.Legend at 0x7abd20171f50>"
            ]
          },
          "execution_count": 38,
          "metadata": {},
          "output_type": "execute_result"
        },
        {
          "data": {
            "image/png": "[encoded data removed]",
            "text/plain": [
              "<Figure size 640x480 with 1 Axes>"
            ]
          },
          "metadata": {},
          "output_type": "display_data"
        }
      ],
      "source": [
        "from matplotlib import pyplot\n",
        "\n",
        "pyplot.plot(history.history['loss'], label='train')\n",
        "pyplot.plot(history.history['val_loss'], label='test')\n",
        "\n",
        "pyplot.plot(history.history['accuracy'], label='train')\n",
        "pyplot.plot(history.history['val_accuracy'], label='test')\n",
        "pyplot.legend()"
      ]
    },
    {
      "cell_type": "code",
      "execution_count": 39,
      "metadata": {
        "colab": {
          "base_uri": "https://localhost:8080/"
        },
        "id": "lE-Oi3wv4Ufh",
        "outputId": "182cd01a-b4c8-4159-86ae-76cc3b8f8350"
      },
      "outputs": [
        {
          "name": "stdout",
          "output_type": "stream",
          "text": [
            "updating: content/drive/MyDrive/frugal/baseline_model_v5_create_arm_spectrogram_for_map.keras (deflated 68%)\n",
            "updating: baseline_model_v5_create_arm_spectrogram_for_map.keras (deflated 68%)\n"
          ]
        }
      ],
      "source": [
        "#Saves on drive\n",
        "baseline_model.save(f\"/content/drive/MyDrive/frugal/baseline_model_v5_{spectrogram_setting}.keras\")\n",
        "#Saves local machine\n",
        "baseline_model.save(f\"baseline_model_v5_{spectrogram_setting}.keras\")\n",
        "\n",
        "!zip -r /content/drive/MyDrive/frugal/baseline_model_v5_{spectrogram_setting}.zip /content/drive/MyDrive/frugal/baseline_model_v5_{spectrogram_setting}.keras\n",
        "!zip -r baseline_model_v5_{spectrogram_setting}.zip baseline_model_v5_{spectrogram_setting}.keras\n",
        "\n",
        "#Saves on drive\n",
        "baseline_model.save(f\"/content/drive/MyDrive/frugal/baseline_model_v5_{spectrogram_setting}.keras\")\n",
        "#Saves local machine\n",
        "baseline_model.save(f\"baseline_model_v5_{spectrogram_setting}.keras\")\n"
      ]
    },
    {
      "cell_type": "markdown",
      "metadata": {
        "id": "QFwcoW0j2Rcb"
      },
      "source": [
        "### Scoring the model"
      ]
    },
    {
      "cell_type": "code",
      "execution_count": 40,
      "metadata": {
        "id": "sWpXhy1eQmgH"
      },
      "outputs": [],
      "source": [
        "# @TODO: Why:\n",
        "# WARNING:tensorflow:Using a while_loop for converting IO>AudioResample cause there is no registered converter for this op."
      ]
    },
    {
      "cell_type": "markdown",
      "metadata": {
        "id": "cnDIdyN38UVh"
      },
      "source": [
        "The baseline model has a relatively low accuracy ~80%."
      ]
    },
    {
      "cell_type": "markdown",
      "metadata": {
        "id": "TkW5RFLVFIQO"
      },
      "source": [
        "Save the model:"
      ]
    },
    {
      "cell_type": "code",
      "execution_count": 41,
      "metadata": {
        "colab": {
          "base_uri": "https://localhost:8080/"
        },
        "id": "3L_Ry2C_4Tdp",
        "outputId": "882c6ba8-207a-4428-f102-9797c1a4a726"
      },
      "outputs": [
        {
          "name": "stdout",
          "output_type": "stream",
          "text": [
            "1/1 [==============================] - 9s 9s/step - loss: 1.4436 - accuracy: 0.8438\n"
          ]
        },
        {
          "data": {
            "text/plain": [
              "{'model': 'baseline_model_v5_create_arm_spectrogram_for_map',\n",
              " 'loss': 1.4436109066009521,\n",
              " 'accuracy': 0.84375}"
            ]
          },
          "execution_count": 41,
          "metadata": {},
          "output_type": "execute_result"
        }
      ],
      "source": [
        "# Evaluation on CPU for take 20 is around TOOLONG s (12s/step - becoming 40s/step)\n",
        "# Eval on CPU for take(1) is 16\n",
        "weights = baseline_model.weights\n",
        "score_baselinemodel = baseline_model.evaluate(test_ds.take(1).cache())\n",
        "score = {\"model\": \"baseline_model_v5_\"+spectrogram_setting, \"loss\":score_baselinemodel[0], \"accuracy\":score_baselinemodel[1]}\n",
        "with open(f\"/content/drive/MyDrive/frugal/baseline_model_v5_{spectrogram_setting}.score.json\", \"w\") as j:\n",
        "  j.write(json.dumps(score))\n",
        "score"
      ]
    },
    {
      "cell_type": "markdown",
      "metadata": {
        "id": "8HW-PdaT5Fx0"
      },
      "source": [
        "# Model optim for pic0\n",
        "\n",
        "## Model Optimization\n",
        "\n",
        "To optimize the model to run on the Arm Cortex-M0+ processor, we will use a process called model quantization. Model quantization converts the model’s weights and biases from 32-bit floating-point values to 8-bit values. The [pico-tflmicro](https://github.com/raspberrypi/pico-tflmicro) library, which is a port of TFLu for the RP2040’s Pico SDK contains Arm’s CMSIS-NN library, which supports optimized kernel operations for quantized 8-bit weights on Arm Cortex-M processors.\n",
        "\n",
        "**Beware** of course this model should be based on the pico's arm's spectrogram, of course.\n"
      ]
    },
    {
      "cell_type": "markdown",
      "metadata": {
        "id": "2HRVOG9-5JsE"
      },
      "source": [
        "### Quantization Aware Training\n",
        "\n",
        "We can use [TensorFlow’s Quantization Aware Training (QAT)](https://www.tensorflow.org/model_optimization/guide/quantization/training) feature to easily convert the floating-point model to quantized."
      ]
    },
    {
      "cell_type": "code",
      "execution_count": 42,
      "metadata": {
        "colab": {
          "base_uri": "https://localhost:8080/"
        },
        "id": "XyWDswSD5PKF",
        "outputId": "399449fd-7498-407e-fc3f-b678222287af"
      },
      "outputs": [
        {
          "name": "stdout",
          "output_type": "stream",
          "text": [
            "Loading a model from /content/drive/MyDrive/frugal/quant_aware_model_v5_create_arm_spectrogram_for_map_QAT.keras\n",
            "Model: \"sequential\"\n",
            "_________________________________________________________________\n",
            " Layer (type)                Output Shape              Param #   \n",
            "=================================================================\n",
            " resizing (Resizing)         (None, 32, 32, 1)         0         \n",
            "                                                                 \n",
            " normalization (Normalizati  (None, 32, 32, 1)         3         \n",
            " on)                                                             \n",
            "                                                                 \n",
            " conv2d (Conv2D)             (None, 13, 13, 8)         520       \n",
            "                                                                 \n",
            " max_pooling2d (MaxPooling2  (None, 6, 6, 8)           0         \n",
            " D)                                                              \n",
            "                                                                 \n",
            " flatten (Flatten)           (None, 288)               0         \n",
            "                                                                 \n",
            " dropout (Dropout)           (None, 288)               0         \n",
            "                                                                 \n",
            " dense (Dense)               (None, 2)                 578       \n",
            "                                                                 \n",
            "=================================================================\n",
            "Total params: 1101 (4.30 KB)\n",
            "Trainable params: 1098 (4.29 KB)\n",
            "Non-trainable params: 3 (16.00 Byte)\n",
            "_________________________________________________________________\n"
          ]
        }
      ],
      "source": [
        "import tensorflow_model_optimization as tfmot\n",
        "\n",
        "if os.path.isfile(f\"/content/drive/MyDrive/frugal/quant_aware_model_v5_{spectrogram_setting}_QAT.keras\"):\n",
        "  # We load an existing quantified model\n",
        "  print(\"Loading a model from\",f\"/content/drive/MyDrive/frugal/quant_aware_model_v5_{spectrogram_setting}_QAT.keras\")\n",
        "  quant_aware_model = tf.keras.models.load_model(f\"/content/drive/MyDrive/frugal/quant_aware_model_v5_{spectrogram_setting}_QAT.keras\")\n",
        "else:\n",
        "  # We load the non quant'ed model to process it\n",
        "  final_model = tf.keras.models.load_model(f\"/content/drive/MyDrive/frugal/baseline_model_v5_{spectrogram_setting}.keras\")\n",
        "  supported_layers = [tf.keras.layers.Conv2D, tf.keras.layers.Dense, tf.keras.layers.ReLU]\n",
        "\n",
        "  def apply_quantization_to_dense(layer):\n",
        "    for supported_layer in supported_layers:\n",
        "      if isinstance(layer, tf.keras.layers.Dense):\n",
        "        return tfmot.quantization.keras.quantize_annotate_layer(layer)\n",
        "    return layer\n",
        "\n",
        "  def apply_qat_to_dense_and_cnn(layer):\n",
        "    if isinstance(layer, (tf.keras.layers.Dense, tf.keras.layers.Conv2D)):\n",
        "      return tfmot.quantization.keras.quantize_annotate_layer(layer)\n",
        "    return layer\n",
        "\n",
        "  annotated_model = tf.keras.models.clone_model(\n",
        "      final_model,\n",
        "      clone_function=apply_qat_to_dense_and_cnn,\n",
        "  )\n",
        "\n",
        "  quant_aware_model = tfmot.quantization.keras.quantize_apply(annotated_model)\n",
        "\n",
        "quant_aware_model.summary()"
      ]
    },
    {
      "cell_type": "code",
      "execution_count": 43,
      "metadata": {
        "id": "jmHPDwpI5g29"
      },
      "outputs": [],
      "source": [
        "quant_aware_model.compile(\n",
        "    optimizer=tf.keras.optimizers.Adam(learning_rate=0.001),\n",
        "    loss=tf.keras.losses.SparseCategoricalCrossentropy(from_logits=False),\n",
        "    metrics=METRICS,\n",
        ")"
      ]
    },
    {
      "cell_type": "code",
      "execution_count": null,
      "metadata": {
        "colab": {
          "base_uri": "https://localhost:8080/"
        },
        "id": "-sfg63y4WcG1",
        "outputId": "539df552-79db-4806-f0c4-6b534ef69d5c"
      },
      "outputs": [
        {
          "name": "stdout",
          "output_type": "stream",
          "text": [
            "Epoch 1/40\n",
            "     97/Unknown - 315s 3s/step - loss: 1.6057 - accuracy: 0.8032"
          ]
        }
      ],
      "source": [
        "EPOCHS=40 # 295s on T4 for 100 items, 10 tests\n",
        "quant_aware_history = quant_aware_model.fit(\n",
        "    train_ds.take(200).cache(),\n",
        "    validation_data=val_ds.take(100).cache(),\n",
        "    epochs=EPOCHS\n",
        ")"
      ]
    },
    {
      "cell_type": "code",
      "execution_count": null,
      "metadata": {
        "id": "T-Xxu3iFrYAn"
      },
      "outputs": [],
      "source": [
        "from matplotlib import pyplot\n",
        "\n",
        "pyplot.plot(quant_aware_history.history['loss'], label='train')\n",
        "pyplot.plot(quant_aware_history.history['val_loss'], label='test')\n",
        "\n",
        "pyplot.plot(quant_aware_history.history['accuracy'], label='train')\n",
        "pyplot.plot(quant_aware_history.history['val_accuracy'], label='test')"
      ]
    },
    {
      "cell_type": "code",
      "execution_count": null,
      "metadata": {
        "id": "0ZzbTejMYxW3"
      },
      "outputs": [],
      "source": [
        "#Saving the quantified model"
      ]
    },
    {
      "cell_type": "code",
      "execution_count": null,
      "metadata": {
        "id": "ATxvjZXk-cdU"
      },
      "outputs": [],
      "source": [
        "#Saves on drive\n",
        "quant_aware_model.save(f\"/content/drive/MyDrive/frugal/quant_aware_model_v5_{spectrogram_setting}_QAT.keras\")\n",
        "#Saves local machine\n",
        "quant_aware_model.save(f\"quant_aware_model_v5_{spectrogram_setting}_QAT.keras\")\n",
        "\n",
        "!zip -r /content/drive/MyDrive/frugal/quant_aware_model_v5_{spectrogram_setting}_QAT.zip /content/drive/MyDrive/frugal/quant_aware_model_v5_{spectrogram_setting}_QAT.keras\n",
        "!zip -r quant_aware_model_v5_{spectrogram_setting}_QAT.zip quant_aware_model_v5_{spectrogram_setting}_QAT.keras\n",
        "\n",
        "#Saves on drive\n",
        "quant_aware_model.save(f\"/content/drive/MyDrive/frugal/quant_aware_model_v5_{spectrogram_setting}_QAT.keras\")\n",
        "#Saves local machine\n",
        "quant_aware_model.save(f\"quant_aware_model_v5_{spectrogram_setting}_QAT.keras\")\n"
      ]
    },
    {
      "cell_type": "code",
      "execution_count": null,
      "metadata": {
        "id": "z4ZgfQJa4ijT"
      },
      "outputs": [],
      "source": [
        "# Eval on CPU for take(1) is 9s fot QAT\n",
        "score_QATmodel = quant_aware_model.evaluate(test_ds.take(2).cache())\n",
        "score = {\"model\": \"baseline_model_v5_\"+spectrogram_setting, \"loss\":score_QATmodel[0], \"accuracy\":score_QATmodel[1]}\n",
        "with open(f\"/content/drive/MyDrive/frugal/quant_aware_model_v5_{spectrogram_setting}.score.json\", \"w\") as j:\n",
        "  j.write(json.dumps(score))\n",
        "score"
      ]
    },
    {
      "cell_type": "markdown",
      "metadata": {
        "id": "rINV6dEU5sqp"
      },
      "source": [
        "### Saving model in TFLite format\n",
        "\n",
        "We will now use the [tf.lite.TFLiteConverter.from_keras_model(...)](https://www.tensorflow.org/api_docs/python/tf/lite/TFLiteConverter#from_keras_model) API to convert the quantized Keras model to TF Lite format, and then save it to disk as a `.tflite` file."
      ]
    },
    {
      "cell_type": "code",
      "execution_count": null,
      "metadata": {
        "id": "rRuuJi145r8r"
      },
      "outputs": [],
      "source": [
        "converter = tf.lite.TFLiteConverter.from_keras_model(quant_aware_model)\n",
        "converter.optimizations = [tf.lite.Optimize.DEFAULT]\n",
        "\n",
        "def representative_data_gen():\n",
        "  for input_value, output_value in train_ds.unbatch().batch(1).take(100):\n",
        "    # Model has only one input so each data point has one element.\n",
        "    yield [input_value]\n",
        "\n",
        "converter.representative_dataset = representative_data_gen\n",
        "# Ensure that if any ops can't be quantized, the converter throws an errordef remove_fold_column(spectrogram, label, fold):\n",
        "    spectrogram = tf.expand_dims(spectrogram, axis=-1)\n",
        "    print(\"The spectrogram Shape\", spectrogram.shape)\n",
        "    spectrogram.set_shape([280, 129, 1])\n",
        "    return spectrogram, label\n",
        "\n",
        "converter.target_spec.supported_ops = [tf.lite.OpsSet.TFLITE_BUILTINS_INT8]\n",
        "# Set the input and output tensors to uint8 (APIs added in r2.3)\n",
        "converter.inference_input_type = tf.int8\n",
        "converter.inference_output_type = tf.int8\n",
        "tflite_model_quant = converter.convert()\n",
        "\n",
        "tflite = f\"/content/drive/MyDrive/frugal/tflite_model_v5_{spectrogram_setting}.tflite\"\n",
        "with open(tflite, \"wb\") as f:\n",
        "  f.write(tflite_model_quant)"
      ]
    },
    {
      "cell_type": "code",
      "execution_count": null,
      "metadata": {
        "id": "h9ncMf6YQMW6"
      },
      "outputs": [],
      "source": [
        "os.path.isfile(tflite)"
      ]
    },
    {
      "cell_type": "code",
      "execution_count": null,
      "metadata": {
        "id": "4kHJ0VEOGYO-"
      },
      "outputs": [],
      "source": [
        "!echo \"alignas(8) const unsigned char tflite_model[] = {\" > /content/drive/MyDrive/frugal/tflite_v5_{spectrogram_setting}_model.h\n",
        "!cat /content/drive/MyDrive/frugal/tflite_model_v5_{spectrogram_setting}.tflite | xxd -i                        >> /content/drive/MyDrive/frugal/tflite_v5_{spectrogram_setting}_model.h\n",
        "!echo \"};\"                                               >> /content/drive/MyDrive/frugal/tflite_v5_{spectrogram_setting}_model.h\n",
        "\n",
        "!echo \"alignas(8) const unsigned char tflite_model[] = {\" > tflite_model_v5.h\n",
        "!cat /content/drive/MyDrive/frugal/tflite_model_v5_{spectrogram_setting}.tflite | xxd -i                        >> tflite_model_v5.h\n",
        "!echo \"};\"                                               >> tflite_model_v5.h"
      ]
    },
    {
      "cell_type": "markdown",
      "metadata": {
        "id": "StbdFxpk6D_8"
      },
      "source": [
        "### Test TF Lite model\n",
        "\n",
        "Since TensorFlow also supports loading TF Lite models using [`tensorflow.lite`](https://www.tensorflow.org/api_docs/python/tf/lite), we can also verify the functionality of the quantized model and compare its accuracy with the regular unquantized model inside the notebook."
      ]
    },
    {
      "cell_type": "code",
      "execution_count": null,
      "metadata": {
        "id": "MSmewwScb-r0"
      },
      "outputs": [],
      "source": [
        "DoTests = False"
      ]
    },
    {
      "cell_type": "code",
      "execution_count": null,
      "metadata": {
        "id": "qZkEUTBr6Hd-"
      },
      "outputs": [],
      "source": [
        "import tensorflow.lite as tflite\n",
        "\n",
        "print( f\"Loading /content/drive/MyDrive/frugal/tflite_model_v5_{spectrogram_setting}.tflite\")\n",
        "# Load the interpreter and allocate tensors\n",
        "interpreter = tflite.Interpreter( f\"/content/drive/MyDrive/frugal/tflite_model_v5_{spectrogram_setting}.tflite\")\n",
        "interpreter.allocate_tensors()\n",
        "\n",
        "# Load input and output details\n",
        "input_details = interpreter.get_input_details()[0]\n",
        "output_details = interpreter.get_output_details()[0]\n",
        "\n",
        "# Set quantization values\n",
        "input_scale, input_zero_point = input_details[\"quantization\"]\n",
        "output_scale, output_zero_point = output_details[\"quantization\"]"
      ]
    },
    {
      "cell_type": "code",
      "execution_count": null,
      "metadata": {
        "id": "IUx7s-y45tvB"
      },
      "outputs": [],
      "source": [
        "input_scale, input_zero_point, \"--\",output_scale, output_zero_point, input_details['dtype']"
      ]
    },
    {
      "cell_type": "code",
      "execution_count": null,
      "metadata": {
        "id": "nTaHXE716yZO"
      },
      "outputs": [],
      "source": [
        "DoTests = True"
      ]
    },
    {
      "cell_type": "code",
      "execution_count": null,
      "metadata": {
        "id": "yLw9Yy7w6bwy"
      },
      "outputs": [],
      "source": [
        "if DoTests:# Calculate the number of correct predictions\n",
        "  correct = 0\n",
        "  test_ds_len = 0\n",
        "\n",
        "  # Loop through a part of the test set\n",
        "  # For a take(100) it takes xx seconds on a T4 machine.\n",
        "  for x, y in  test_ds.take(2).cache().unbatch():\n",
        "    # original shape is [124, 129, 1] expand to [1, 124, 129, 1]\n",
        "    x = tf.expand_dims(x, 0).numpy()\n",
        "    if not test_ds_len%10:\n",
        "      print(test_ds_len)\n",
        "    # quantize the input value\n",
        "    if (input_scale, input_zero_point) != (0, 0):\n",
        "      x = x / input_scale + input_zero_point\n",
        "\n",
        "    #X = np.float32(x)\n",
        "    X = X.astype(input_details['dtype'])\n",
        "\n",
        "    print(np.min(X),np.max(X))\n",
        "\n",
        "    try:\n",
        "      # add the input tensor to interpreter\n",
        "      interpreter.set_tensor(input_details[\"index\"], X)\n",
        "\n",
        "      #run the model\n",
        "      interpreter.invoke()\n",
        "\n",
        "      # Get output data from model and convert to fp32\n",
        "      output_data = interpreter.get_tensor(output_details[\"index\"])\n",
        "      output_data = output_data.astype(np.float32)\n",
        "\n",
        "      # Dequantize the output\n",
        "      if (output_scale, output_zero_point) != (0.0, 0):\n",
        "        output_data = (output_data - output_zero_point) * output_scale\n",
        "\n",
        "      # convert output to category\n",
        "      if output_data[0][0] >= 0.5:\n",
        "        category = 1\n",
        "      else:\n",
        "        category = 0\n",
        "\n",
        "      # add 1 if category = y\n",
        "      correct += 1 if category == y.numpy() else 0\n",
        "\n",
        "      test_ds_len += 1\n",
        "    except:\n",
        "      pass\n",
        "\n",
        "  #   break"
      ]
    },
    {
      "cell_type": "code",
      "execution_count": null,
      "metadata": {
        "id": "R38f75_p61se"
      },
      "outputs": [],
      "source": [
        "if DoTests:\n",
        "  accuracy = correct / test_ds_len\n",
        "  print(f\"Accuracy for quantized model is {accuracy*100:.2f}% (to 2 D.P) on test set.\")"
      ]
    },
    {
      "cell_type": "code",
      "execution_count": null,
      "metadata": {
        "id": "HXdZv6usW5Dr"
      },
      "outputs": [],
      "source": [
        "# PIP FREEZE\n",
        "!pip freeze > /content/drive/MyDrive/frugal/requirements.txt"
      ]
    },
    {
      "cell_type": "markdown",
      "metadata": {
        "id": "JewC4-lktURp"
      },
      "source": [
        "# Flashing"
      ]
    },
    {
      "cell_type": "markdown",
      "metadata": {
        "id": "NHu4BeMMtWRu"
      },
      "source": [
        "See https://colab.research.google.com/github/ArmDeveloperEcosystem/ml-audio-classifier-example-for-pico/blob/main/ml_audio_classifier_example_for_pico.ipynb#scrollTo=4gqmp3nPtp6P"
      ]
    },
    {
      "cell_type": "code",
      "execution_count": null,
      "metadata": {
        "id": "hMG2-O8XQvdD"
      },
      "outputs": [],
      "source": [
        "pico = False"
      ]
    },
    {
      "cell_type": "markdown",
      "metadata": {
        "id": "UK7zMRMhftwE"
      },
      "source": [
        "#### Inference Application\n",
        "\n",
        "We now have a model that is ready to be deployed to the device! We’ve created an application template for inference which can be compiled with the .h file that we’ve generated for the model.\n",
        "\n",
        "The C++ application uses the `pico-sdk` as the base, along with the `CMSIS-DSP`, `pico-tflmicro`, and `Microphone Libary for Pico` libraries. It’s general structure is as follows:\n",
        " 1. Initialization\n",
        "  1. Configure the board's built-in LED for output. The application will map the brightness of the LED to the output of the model. (0.0 LED off, 1.0 LED on with full brightness)\n",
        "  1. Setup the TF Lite library and TF Lite model for inference\n",
        "  1. Setup the CMSIS-DSP based DSP pipeline\n",
        "  1. Setup and start the microphone for real-time audio\n",
        " 1. Inference loop\n",
        "  1. Wait for 128 * 4 = 512 new audio samples from the microphone\n",
        "  1. Shift the spectrogram array over by 4 columns\n",
        "  1. Shift the audio input buffer over by 128 * 4 = 512 samples and copy in the new samples\n",
        "  1. Calculate 4 new spectrogram columns for the updated input buffer\n",
        "  1. Perform inference on the spectrogram data\n",
        "  1. Map the inference output value to the on-board LED’s brightness and output the status to the USB port\n",
        "\n",
        "In-order to run in real-time each cycle of the inference loop must take under (512 / 16000) = 0.032 seconds or 32 milliseconds. The model we’ve trained and converted takes 24 ms for inference, which gives us ~8 ms for the other operations in the loop.\n",
        "\n",
        "128 was used above to match the stride of 128 used in the training pipeline for the spectrogram. We used a shift of 4 in the spectrogram to fit within the real-time constraints we had.\n",
        "\n",
        "The source code for the inference application can be found on GitHub: https://github.com/ArmDeveloperEcosystem/ml-audio-classifier-example-for-pico/tree/main/inference-app\n",
        "\n",
        "**Note:** We have already cloned this project in the setup steps from earlier.\n"
      ]
    },
    {
      "cell_type": "code",
      "execution_count": null,
      "metadata": {
        "id": "CZovzBPCrw7C"
      },
      "outputs": [],
      "source": [
        "import tensorflow as tf\n",
        "if pico:\n",
        "  tf.keras.utils.get_file('cmake-3.21.0-linux-x86_64.tar.gz',\n",
        "                          'https://github.com/Kitware/CMake/releases/download/v3.21.0/cmake-3.21.0-linux-x86_64.tar.gz',\n",
        "                          cache_dir='./',\n",
        "                          cache_subdir='tools',\n",
        "                          extract=True)\n",
        "\n",
        "  tf.keras.utils.get_file('gcc-arm-none-eabi-10-2020-q4-major-x86_64-linux.tar.bz2',\n",
        "                          'https://developer.arm.com/-/media/Files/downloads/gnu-rm/10-2020q4/gcc-arm-none-eabi-10-2020-q4-major-x86_64-linux.tar.bz2',\n",
        "                          cache_dir='./',\n",
        "                          cache_subdir='tools',\n",
        "                          extract=True)"
      ]
    },
    {
      "cell_type": "code",
      "execution_count": null,
      "metadata": {
        "id": "80pH73smrylo"
      },
      "outputs": [],
      "source": [
        "!apt-get install -y xxd"
      ]
    },
    {
      "cell_type": "code",
      "execution_count": null,
      "metadata": {
        "id": "amJVILyBrz_S"
      },
      "outputs": [],
      "source": [
        "import os\n",
        "\n",
        "os.environ['PATH'] = f\"{os.getcwd()}/tools/cmake-3.21.0-linux-x86_64/bin:{os.environ['PATH']}\"\n",
        "os.environ['PATH'] = f\"{os.getcwd()}/tools/gcc-arm-none-eabi-10-2020-q4-major/bin:{os.environ['PATH']}\""
      ]
    },
    {
      "cell_type": "code",
      "execution_count": null,
      "metadata": {
        "id": "6-lzWtEbr2Co"
      },
      "outputs": [],
      "source": [
        "%%shell\n",
        "git clone --branch 1.2.0 https://github.com/raspberrypi/pico-sdk.git\n",
        "cd pico-sdk\n",
        "git submodule init\n",
        "git submodule update"
      ]
    },
    {
      "cell_type": "code",
      "execution_count": null,
      "metadata": {
        "id": "9BvGfrnmr6FV"
      },
      "outputs": [],
      "source": [
        "os.environ['PICO_SDK_PATH'] = f\"{os.getcwd()}/pico-sdk\""
      ]
    },
    {
      "cell_type": "code",
      "execution_count": null,
      "metadata": {
        "id": "PwEViz_8r8xS"
      },
      "outputs": [],
      "source": [
        "# for Raspberry Pi Pico (uncomment next line)\n",
        "os.environ['PICO_BOARD'] = 'pico'\n",
        "# for SparkFun MicroMod\n",
        "# os.environ['PICO_BOARD'] = 'sparkfun_micromod'\n",
        "print(f\"PICO_BOARD env. var. set to '{os.environ['PICO_BOARD']}'\")"
      ]
    },
    {
      "cell_type": "code",
      "execution_count": null,
      "metadata": {
        "id": "GJRou4-UsBdP"
      },
      "outputs": [],
      "source": [
        "%%shell\n",
        "git clone --recurse-submodules https://github.com/ArmDeveloperEcosystem/ml-audio-classifier-example-for-pico.git"
      ]
    },
    {
      "cell_type": "code",
      "execution_count": null,
      "metadata": {
        "id": "TIT5kNiJsEFt"
      },
      "outputs": [],
      "source": [
        "%%shell\n",
        "ln -s ml-audio-classifier-example-for-pico/colab_utils colab_utils\n",
        "ln -s ml-audio-classifier-example-for-pico/inference-app inference-app"
      ]
    },
    {
      "cell_type": "markdown",
      "metadata": {
        "id": "m7hCXXsztMco"
      },
      "source": [
        "#### Compile Inference Application\n",
        "\n",
        "Once again we can use `cmake` to setup project before compiling it:"
      ]
    },
    {
      "cell_type": "code",
      "execution_count": null,
      "metadata": {
        "id": "B1pCd0WMsPK8"
      },
      "outputs": [],
      "source": [
        "!cp tflite_model.h inference-app/src/tflite_model.h"
      ]
    },
    {
      "cell_type": "code",
      "execution_count": null,
      "metadata": {
        "id": "HLBvx8Sjf2vG"
      },
      "outputs": [],
      "source": [
        "%%shell\n",
        "cd inference-app\n",
        "mkdir -p build\n",
        "cd build\n",
        "cmake .. -DPICO_BOARD=${PICO_BOARD}\n",
        "\n",
        "cd inference-app/build\n",
        "\n",
        "make -j"
      ]
    },
    {
      "cell_type": "markdown",
      "metadata": {
        "id": "wt-6BioutIDC"
      },
      "source": [
        "#### Flash inferencing application to board\n",
        "\n",
        "You’ll need to put the board into USB boot ROM mode again to load the new application to it. If you are using a WebUSB API enabled browser like Google Chrome, you can directly flash the image onto the board from within Google Collab! Otherwise, you can manually download the .uf2 file to your computer and then drag it onto the USB disk for the RP2040 board.\n",
        "\n",
        "**Note for Windows**: If you are using Windows you must install WinUSB drivers in order to use WebUSB, you can do so by following the instructions found [here](https://github.com/ArmDeveloperEcosystem/ml-audio-classifier-example-for-pico/blob/main/windows.md).\n",
        "\n",
        "**Note for Linux**: If you are using Linux you must configure udev in order to use WebUSB, you can do so by following the instructions found [here](https://github.com/ArmDeveloperEcosystem/ml-audio-classifier-example-for-pico/blob/main/linux.md).\n",
        "\n",
        " * SparkFun MicroMod\n",
        "  * Plug the USB-C cable into the board and your PC to power the board\n",
        "  * While holding down the BOOT button on the board, tap the RESET button\n",
        "\n",
        " * Raspberry Pi Pico\n",
        "  * Plug the USB Micro cable into your PC, but do NOT plug in the Pico side.\n",
        "  * While holding down the white BOOTSEL button, plug in the micro USB cable to the Pico\n",
        "\n",
        "\n",
        "Then run the code cell below and click the \"flash\" button."
      ]
    },
    {
      "cell_type": "code",
      "execution_count": null,
      "metadata": {
        "id": "_RIFkrEnf_BE"
      },
      "outputs": [],
      "source": [
        "from colab_utils.pico import flash_pico\n",
        "if pico:\n",
        "  flash_pico('inference-app/build/pico_inference_app.bin')"
      ]
    },
    {
      "cell_type": "code",
      "execution_count": null,
      "metadata": {
        "id": "OFcRzEIlsY2u"
      },
      "outputs": [],
      "source": [
        "if pico:\n",
        "  for wav, _, _ in fire_alarm_wav_ds:\n",
        "    display.display(display.Audio(wav, rate=sample_rate))"
      ]
    },
    {
      "cell_type": "code",
      "execution_count": null,
      "metadata": {
        "id": "_HfRcvYFsTxr"
      },
      "outputs": [],
      "source": [
        "from colab_utils.serial_monitor import run_serial_monitor\n",
        "\n",
        "if pico:\n",
        "  run_serial_monitor()"
      ]
    }
  ],
  "metadata": {
    "colab": {
      "provenance": []
    },
    "kernelspec": {
      "display_name": "Python 3",
      "name": "python3"
    },
    "language_info": {
      "name": "python"
    }
  },
  "nbformat": 4,
  "nbformat_minor": 0
}
